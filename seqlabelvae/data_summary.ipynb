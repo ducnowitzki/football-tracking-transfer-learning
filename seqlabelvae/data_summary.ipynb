{
 "cells": [
  {
   "cell_type": "code",
   "execution_count": null,
   "id": "3b6b5e9c11fb52c5",
   "metadata": {
    "ExecuteTime": {
     "end_time": "2024-07-23T16:32:14.239960Z",
     "start_time": "2024-07-23T16:32:14.217342Z"
    }
   },
   "outputs": [
    {
     "ename": "",
     "evalue": "",
     "output_type": "error",
     "traceback": [
      "\u001b[1;31mFailed to start the Kernel. \n",
      "\u001b[1;31mUnable to start Kernel '.venv (Python 3.12.8)' due to a timeout waiting for the ports to get used. \n",
      "\u001b[1;31mView Jupyter <a href='command:jupyter.viewOutput'>log</a> for further details."
     ]
    }
   ],
   "source": [
    "# Deactivate distracting warnings\n",
    "import warnings\n",
    "warnings.filterwarnings(\"ignore\")"
   ]
  },
  {
   "cell_type": "code",
   "execution_count": 30,
   "id": "initial_id",
   "metadata": {
    "ExecuteTime": {
     "end_time": "2024-07-23T16:32:15.510080Z",
     "start_time": "2024-07-23T16:32:14.241961Z"
    },
    "collapsed": true
   },
   "outputs": [],
   "source": [
    "from data_processing import display_data_summary, load_event_data\n",
    "from visualzation import load_data, plot_event_count, plot_kde, plot_goal_positions"
   ]
  },
  {
   "cell_type": "code",
   "execution_count": 31,
   "id": "25c2b059",
   "metadata": {},
   "outputs": [],
   "source": [
    "import numpy as np\n",
    "import matplotlib.pyplot as plt\n",
    "import seaborn as sns\n",
    "from floodlight.io.dfl import read_position_data_xml, read_event_data_xml\n",
    "import pickle"
   ]
  },
  {
   "cell_type": "code",
   "execution_count": 32,
   "id": "aec61eaa55697ae5",
   "metadata": {
    "ExecuteTime": {
     "end_time": "2024-07-23T16:32:15.526047Z",
     "start_time": "2024-07-23T16:32:15.512029Z"
    }
   },
   "outputs": [],
   "source": [
    "# Define the path to the dataset\n",
    "path = \"data/\""
   ]
  },
  {
   "cell_type": "code",
   "execution_count": 4,
   "id": "73d84a74a9fe4ba0",
   "metadata": {
    "ExecuteTime": {
     "end_time": "2024-07-23T16:37:07.523482Z",
     "start_time": "2024-07-23T16:32:15.528029Z"
    }
   },
   "outputs": [
    {
     "name": "stdout",
     "output_type": "stream",
     "text": [
      "Unique player IDs: 207\n",
      "Unique teams: 10\n",
      "Total number of events: 11137\n",
      "Unique event ID counts:\n",
      " eID\n",
      "Play_Pass                            5241\n",
      "OtherBallAction                      1699\n",
      "TacklingGame                         1412\n",
      "Delete                               1074\n",
      "ThrowIn_Play_Pass                     281\n",
      "BallClaiming                          206\n",
      "Foul                                  160\n",
      "FreeKick_Play_Pass                    156\n",
      "Play_Cross                            140\n",
      "OutSubstitution                       128\n",
      "GoalKick_Play_Pass                    119\n",
      "ShotAtGoal_ShotWide                    63\n",
      "CornerKick_Play_Cross                  53\n",
      "ShotAtGoal_SavedShot                   41\n",
      "Caution                                37\n",
      "ShotAtGoal_BlockedShot                 37\n",
      "KickOff_Play_Pass                      32\n",
      "RefereeBall                            30\n",
      "FinalWhistle                           28\n",
      "ThrowIn_Play_Cross                     24\n",
      "PenaltyNotAwarded                      18\n",
      "VideoAssistantAction                   18\n",
      "Nutmeg                                 16\n",
      "ShotAtGoal_SuccessfulShot              16\n",
      "Offside                                16\n",
      "SpectacularPlay                        12\n",
      "FreeKick_Play_Cross                    12\n",
      "ChanceWithoutShot                       9\n",
      "Run                                     8\n",
      "PossessionLossBeforeGoal                8\n",
      "PlayerNotSentOff                        6\n",
      "FairPlay                                5\n",
      "CornerKick_Play_Pass                    4\n",
      "BallDeflection                          4\n",
      "ShotAtGoal_OtherShot                    4\n",
      "Penalty_ShotAtGoal_SuccessfulShot       3\n",
      "ShotAtGoal_ShotWoodWork                 3\n",
      "ThrowIn                                 3\n",
      "OtherPlayerAction                       2\n",
      "SitterPrevented                         2\n",
      "CautionTeamofficial                     2\n",
      "FreeKick_ShotAtGoal_BlockedShot         2\n",
      "GoalDisallowed                          1\n",
      "FreeKick_ShotAtGoal_SavedShot           1\n",
      "FreeKick_ShotAtGoal_ShotWide            1\n",
      "Name: count, dtype: int64\n",
      "Total number of position frames: 1002644\n"
     ]
    }
   ],
   "source": [
    "# Display Data Summary. Note that executing this code can take several minutes due the complexity of the parsing routines.\n",
    "display_data_summary(path)"
   ]
  },
  {
   "cell_type": "code",
   "execution_count": 50,
   "id": "fd02a1b94c3b4fa9",
   "metadata": {
    "ExecuteTime": {
     "end_time": "2024-07-23T16:45:59.524061Z",
     "start_time": "2024-07-23T16:37:07.526479Z"
    }
   },
   "outputs": [],
   "source": [
    "# Define paths and filenames. Note that executing this code can take several minutes due of the large data the KDE-plot has to process.\n",
    "# file_name_pos = \"DFL_04_03_positions_raw_observed_DFL-COM-000002_DFL-MAT-J03WOH.xml\"\n",
    "# file_name_infos = \"DFL_02_01_matchinformation_DFL-COM-000002_DFL-MAT-J03WOH.xml\"\n",
    "# file_name_events = \"DFL_03_02_events_raw_DFL-COM-000002_DFL-MAT-J03WOH.xml\"\n",
    "\n",
    "file_name_pos, file_name_infos, file_name_events = (\"DFL_04_03_positions_raw_observed_DFL-COM-000001_DFL-MAT-J03WMX.xml\",\"DFL_02_01_matchinformation_DFL-COM-000001_DFL-MAT-J03WMX.xml\",\"DFL_03_02_events_raw_DFL-COM-000001_DFL-MAT-J03WMX.xml\")\n",
    "\n",
    "# Load data\n",
    "xy_objects, events, pitch = load_data(path, file_name_pos, file_name_infos, file_name_events)\n",
    "all_events = load_event_data(path)\n",
    "\n",
    "# Plot Event Count\n",
    "# plot_event_count(all_events)\n",
    "\n",
    "# Plot KDE\n",
    "# plot_kde(xy_objects, pitch)\n",
    "\n",
    "# Plot Goal Positions\n",
    "# plot_goal_positions(xy_objects, events, pitch)"
   ]
  },
  {
   "cell_type": "code",
   "execution_count": 46,
   "id": "da1130de",
   "metadata": {},
   "outputs": [
    {
     "name": "stdout",
     "output_type": "stream",
     "text": [
      "21.551\n",
      "2820.59\n",
      "0.0\n",
      "2820.59\n",
      "-1109.468\n",
      "3004.03\n",
      "-1109.468\n",
      "3004.03\n"
     ]
    }
   ],
   "source": [
    "# print all distinct values shape[1] for each x\n",
    "for half in ['firstHalf', 'secondHalf']:\n",
    "    for side in ['Home', 'Away']:\n",
    "        es = events[half][side].events\n",
    "        print(es.gameclock.min())\n",
    "        print(es.gameclock.max())\n",
    "\n",
    "\n"
   ]
  },
  {
   "cell_type": "code",
   "execution_count": 49,
   "id": "a0d661b6",
   "metadata": {},
   "outputs": [],
   "source": [
    "e = events['secondHalf']['Home'].events\n"
   ]
  },
  {
   "cell_type": "code",
   "execution_count": 69,
   "id": "2f9c7385",
   "metadata": {},
   "outputs": [
    {
     "data": {
      "application/vnd.microsoft.datawrangler.viewer.v0+json": {
       "columns": [
        {
         "name": "index",
         "rawType": "int64",
         "type": "integer"
        },
        {
         "name": "eID",
         "rawType": "object",
         "type": "string"
        },
        {
         "name": "gameclock",
         "rawType": "float64",
         "type": "float"
        },
        {
         "name": "tID",
         "rawType": "object",
         "type": "unknown"
        },
        {
         "name": "pID",
         "rawType": "object",
         "type": "unknown"
        },
        {
         "name": "outcome",
         "rawType": "float64",
         "type": "float"
        },
        {
         "name": "timestamp",
         "rawType": "datetime64[ns, +02:00]",
         "type": "unknown"
        },
        {
         "name": "minute",
         "rawType": "float64",
         "type": "float"
        },
        {
         "name": "second",
         "rawType": "float64",
         "type": "float"
        },
        {
         "name": "qualifier",
         "rawType": "object",
         "type": "unknown"
        }
       ],
       "conversionMethod": "pd.DataFrame",
       "ref": "560f5e21-085d-44a1-bfd1-5b59bfe3686e",
       "rows": [
        [
         "0",
         "Foul",
         "12.822",
         "DFL-CLU-00000P",
         "DFL-OBJ-00006V",
         null,
         "2022-08-26 18:32:20.932000+02:00",
         "0.0",
         "12.0",
         "{'FoulType': 'foul', 'CommittingPlayerAction': 'slidingTackle', 'Fouler': 'DFL-OBJ-00006V', 'TeamFouled': 'DFL-CLU-000011', 'TeamFouler': 'DFL-CLU-00000P', 'Fouled': 'DFL-OBJ-0027XP'}"
        ],
        [
         "1",
         "Caution",
         "16.29",
         "DFL-CLU-00000P",
         "DFL-OBJ-00006V",
         null,
         "2022-08-26 18:32:24.400000+02:00",
         "0.0",
         "16.0",
         "{'CardRating': 'yellow', 'Player': 'DFL-OBJ-00006V', 'CardColor': 'yellow', 'Reason': 'foul', 'OtherReason': 'foul', 'Team': 'DFL-CLU-00000P'}"
        ],
        [
         "2",
         "Delete",
         "79.856",
         null,
         null,
         null,
         "2022-08-26 18:33:27.966000+02:00",
         "1.0",
         "19.0",
         "{}"
        ],
        [
         "3",
         "Delete",
         "82.69",
         null,
         null,
         null,
         "2022-08-26 18:33:30.800000+02:00",
         "1.0",
         "22.0",
         "{}"
        ],
        [
         "4",
         "OtherBallAction",
         "85.215",
         "DFL-CLU-00000P",
         "DFL-OBJ-0028FW",
         null,
         "2022-08-26 18:33:33.325000+02:00",
         "1.0",
         "25.0",
         "{'Player': 'DFL-OBJ-0028FW', 'BallPossessionPhase': '17', 'Team': 'DFL-CLU-00000P'}"
        ],
        [
         "5",
         "Delete",
         "116.144",
         null,
         null,
         null,
         "2022-08-26 18:34:04.254000+02:00",
         "1.0",
         "56.0",
         "{}"
        ],
        [
         "6",
         "OtherBallAction",
         "119.696",
         "DFL-CLU-00000P",
         "DFL-OBJ-00006V",
         null,
         "2022-08-26 18:34:07.806000+02:00",
         "1.0",
         "59.0",
         "{'DefensiveClearance': 'true', 'Player': 'DFL-OBJ-00006V', 'BallPossessionPhase': '23', 'Team': 'DFL-CLU-00000P'}"
        ],
        [
         "7",
         "GoalKick_Play_Pass",
         "177.08",
         "DFL-CLU-00000P",
         "DFL-OBJ-0028FW",
         null,
         "2022-08-26 18:35:05.190000+02:00",
         "2.0",
         "57.0",
         "{'Team': 'DFL-CLU-00000P', 'DecisionTimestamp': '2022-08-26T18:34:46.285+02:00', 'Recipient': 'DFL-OBJ-J01CP5', 'Height': 'flat', 'Player': 'DFL-OBJ-0028FW', 'BallPossessionPhase': '27', 'Evaluation': 'successfullyCompleted', 'PlayAngle': '285.92', 'FromOpenPlay': 'false', 'SemiField': 'false', 'Distance': 'medium', 'PenaltyBox': 'false', 'PlayOrigin': 'ownHalf', 'FlatCross': 'false', 'FreeKickLayup': 'false'}"
        ],
        [
         "8",
         "Play_Pass",
         "179.601",
         "DFL-CLU-00000P",
         "DFL-OBJ-J01CP5",
         null,
         "2022-08-26 18:35:07.711000+02:00",
         "2.0",
         "59.0",
         "{'Recipient': 'DFL-OBJ-J014UG', 'Height': 'flat', 'Player': 'DFL-OBJ-J01CP5', 'BallPossessionPhase': '29', 'Evaluation': 'successfullyCompleted', 'PlayAngle': '131.45', 'FromOpenPlay': 'true', 'SemiField': 'false', 'Distance': 'medium', 'PenaltyBox': 'false', 'Team': 'DFL-CLU-00000P', 'PlayOrigin': 'ownHalf', 'FlatCross': 'false', 'FreeKickLayup': 'false'}"
        ],
        [
         "9",
         "Play_Pass",
         "182.385",
         "DFL-CLU-00000P",
         "DFL-OBJ-J014UG",
         null,
         "2022-08-26 18:35:10.495000+02:00",
         "3.0",
         "2.0",
         "{'Recipient': 'DFL-OBJ-002FXT', 'Height': 'high', 'Player': 'DFL-OBJ-J014UG', 'BallPossessionPhase': '30', 'Evaluation': 'successfullyCompleted', 'PlayAngle': '0.76', 'FromOpenPlay': 'true', 'SemiField': 'false', 'Distance': 'long', 'PenaltyBox': 'false', 'Team': 'DFL-CLU-00000P', 'PlayOrigin': 'ownHalf', 'FlatCross': 'false', 'FreeKickLayup': 'false', 'Direction': 'throughBall'}"
        ],
        [
         "10",
         "Play_Pass",
         "186.289",
         "DFL-CLU-00000P",
         "DFL-OBJ-002FXT",
         null,
         "2022-08-26 18:35:14.399000+02:00",
         "3.0",
         "6.0",
         "{'Recipient': 'DFL-OBJ-0028SW', 'Height': 'high', 'Player': 'DFL-OBJ-002FXT', 'BallPossessionPhase': '31', 'Evaluation': 'unsuccessful', 'PlayAngle': '343.54', 'FromOpenPlay': 'true', 'SemiField': 'false', 'Distance': 'short', 'PenaltyBox': 'false', 'Team': 'DFL-CLU-00000P', 'PlayOrigin': 'ownHalf', 'FlatCross': 'false', 'FreeKickLayup': 'false'}"
        ],
        [
         "11",
         "ThrowIn_Play_Pass",
         "196.553",
         "DFL-CLU-00000P",
         "DFL-OBJ-J01CP5",
         null,
         "2022-08-26 18:35:24.663000+02:00",
         "3.0",
         "16.0",
         "{'Side': 'left', 'Team': 'DFL-CLU-00000P', 'DecisionTimestamp': '2022-08-26T18:35:20.095+02:00', 'Recipient': 'DFL-OBJ-J014UG', 'Height': 'high', 'Player': 'DFL-OBJ-J01CP5', 'BallPossessionPhase': '34', 'Evaluation': 'successfullyCompleted', 'PlayAngle': '161.17', 'FromOpenPlay': 'false', 'SemiField': 'false', 'Distance': 'medium', 'PenaltyBox': 'false', 'PlayOrigin': 'ownHalf', 'FlatCross': 'false', 'FreeKickLayup': 'false'}"
        ],
        [
         "12",
         "Play_Pass",
         "201.321",
         "DFL-CLU-00000P",
         "DFL-OBJ-J014UG",
         null,
         "2022-08-26 18:35:29.431000+02:00",
         "3.0",
         "21.0",
         "{'Recipient': 'DFL-OBJ-0028FW', 'Height': 'flat', 'Player': 'DFL-OBJ-J014UG', 'BallPossessionPhase': '35', 'Evaluation': 'successfullyCompleted', 'PlayAngle': '100.03', 'FromOpenPlay': 'true', 'SemiField': 'false', 'Distance': 'medium', 'PenaltyBox': 'false', 'Team': 'DFL-CLU-00000P', 'PlayOrigin': 'ownHalf', 'FlatCross': 'false', 'FreeKickLayup': 'false'}"
        ],
        [
         "13",
         "Play_Pass",
         "205.003",
         "DFL-CLU-00000P",
         "DFL-OBJ-0028FW",
         null,
         "2022-08-26 18:35:33.113000+02:00",
         "3.0",
         "25.0",
         "{'Recipient': 'DFL-OBJ-J0130T', 'Height': 'flat', 'Player': 'DFL-OBJ-0028FW', 'BallPossessionPhase': '36', 'Evaluation': 'successfullyCompleted', 'PlayAngle': '315.57', 'FromOpenPlay': 'true', 'SemiField': 'false', 'Distance': 'medium', 'PenaltyBox': 'false', 'Team': 'DFL-CLU-00000P', 'PlayOrigin': 'ownHalf', 'FlatCross': 'false', 'FreeKickLayup': 'false'}"
        ],
        [
         "14",
         "Play_Pass",
         "206.337",
         "DFL-CLU-00000P",
         "DFL-OBJ-J0130T",
         null,
         "2022-08-26 18:35:34.447000+02:00",
         "3.0",
         "26.0",
         "{'Recipient': 'DFL-OBJ-J014UG', 'Height': 'flat', 'Player': 'DFL-OBJ-J0130T', 'BallPossessionPhase': '37', 'Evaluation': 'successfullyCompleted', 'PlayAngle': '207.97', 'FromOpenPlay': 'true', 'SemiField': 'false', 'Distance': 'medium', 'PenaltyBox': 'false', 'Team': 'DFL-CLU-00000P', 'PlayOrigin': 'ownHalf', 'FlatCross': 'false', 'FreeKickLayup': 'false'}"
        ],
        [
         "15",
         "Play_Pass",
         "212.417",
         "DFL-CLU-00000P",
         "DFL-OBJ-J014UG",
         null,
         "2022-08-26 18:35:40.527000+02:00",
         "3.0",
         "32.0",
         "{'Recipient': 'DFL-OBJ-0027VS', 'Height': 'high', 'Player': 'DFL-OBJ-J014UG', 'BallPossessionPhase': '38', 'Evaluation': 'unsuccessful', 'PlayAngle': '38.71', 'FromOpenPlay': 'true', 'SemiField': 'false', 'Distance': 'medium', 'PenaltyBox': 'false', 'Team': 'DFL-CLU-00000P', 'PlayOrigin': 'ownHalf', 'FlatCross': 'false', 'FreeKickLayup': 'false'}"
        ],
        [
         "16",
         "OtherBallAction",
         "218.201",
         "DFL-CLU-00000P",
         "DFL-OBJ-J01CP5",
         null,
         "2022-08-26 18:35:46.311000+02:00",
         "3.0",
         "38.0",
         "{'Player': 'DFL-OBJ-J01CP5', 'BallPossessionPhase': '41', 'Team': 'DFL-CLU-00000P'}"
        ],
        [
         "17",
         "Play_Pass",
         "238.113",
         "DFL-CLU-00000P",
         "DFL-OBJ-002GM1",
         null,
         "2022-08-26 18:36:06.223000+02:00",
         "3.0",
         "58.0",
         "{'Recipient': 'DFL-OBJ-00003X', 'Height': 'high', 'Player': 'DFL-OBJ-002GM1', 'BallPossessionPhase': '45', 'Evaluation': 'successfullyCompleted', 'PlayAngle': '39.77', 'FromOpenPlay': 'true', 'SemiField': 'false', 'Distance': 'medium', 'PenaltyBox': 'false', 'Team': 'DFL-CLU-00000P', 'PlayOrigin': 'oppositionHalf', 'FlatCross': 'false', 'FreeKickLayup': 'false'}"
        ],
        [
         "18",
         "OtherBallAction",
         "239.404",
         "DFL-CLU-00000P",
         "DFL-OBJ-00003X",
         null,
         "2022-08-26 18:36:07.514000+02:00",
         "3.0",
         "59.0",
         "{'Player': 'DFL-OBJ-00003X', 'BallPossessionPhase': '46', 'Team': 'DFL-CLU-00000P'}"
        ],
        [
         "19",
         "TacklingGame",
         "241.866",
         "DFL-CLU-00000P",
         "DFL-OBJ-002FXT",
         "0.0",
         "2022-08-26 18:36:09.976000+02:00",
         "4.0",
         "1.0",
         "{'PossessionChange': 'false', 'WinnerTeam': 'DFL-CLU-00000P', 'Loser': 'DFL-OBJ-00268T', 'Type': 'ground', 'LoserTeam': 'DFL-CLU-000011', 'WinnerRole': 'withBallControl', 'Winner': 'DFL-OBJ-002FXT', 'GoalKeeperInvolved': 'false', 'WinnerResult': 'ballControlRetained', 'LoserRole': 'withoutBallControl'}"
        ],
        [
         "20",
         "Play_Pass",
         "249.585",
         "DFL-CLU-00000P",
         "DFL-OBJ-002FXT",
         null,
         "2022-08-26 18:36:17.695000+02:00",
         "4.0",
         "9.0",
         "{'Height': 'high', 'Player': 'DFL-OBJ-002FXT', 'BallPossessionPhase': '47', 'Evaluation': 'unsuccessful', 'PlayAngle': '181.07', 'FromOpenPlay': 'true', 'SemiField': 'false', 'Distance': 'long', 'PenaltyBox': 'false', 'Team': 'DFL-CLU-00000P', 'PlayOrigin': 'oppositionHalf', 'FlatCross': 'false', 'FreeKickLayup': 'false', 'Direction': 'squarePass'}"
        ],
        [
         "21",
         "BallClaiming",
         "265.105",
         "DFL-CLU-00000P",
         "DFL-OBJ-J014UG",
         null,
         "2022-08-26 18:36:33.215000+02:00",
         "4.0",
         "25.0",
         "{'Type': 'InterceptedBall', 'Player': 'DFL-OBJ-J014UG', 'BallPossessionPhase': '51', 'Team': 'DFL-CLU-00000P'}"
        ],
        [
         "22",
         "Play_Pass",
         "265.106",
         "DFL-CLU-00000P",
         "DFL-OBJ-J014UG",
         null,
         "2022-08-26 18:36:33.216000+02:00",
         "4.0",
         "25.0",
         "{'Recipient': 'DFL-OBJ-0028FW', 'Height': 'high', 'Player': 'DFL-OBJ-J014UG', 'BallPossessionPhase': '51', 'Evaluation': 'successfullyCompleted', 'PlayAngle': '148.28', 'FromOpenPlay': 'true', 'SemiField': 'false', 'Distance': 'medium', 'PenaltyBox': 'false', 'Team': 'DFL-CLU-00000P', 'PlayOrigin': 'ownHalf', 'FlatCross': 'false', 'FreeKickLayup': 'false'}"
        ],
        [
         "23",
         "Play_Pass",
         "269.218",
         "DFL-CLU-00000P",
         "DFL-OBJ-0028FW",
         null,
         "2022-08-26 18:36:37.328000+02:00",
         "4.0",
         "29.0",
         "{'Recipient': 'DFL-OBJ-002GEE', 'Height': 'high', 'Player': 'DFL-OBJ-0028FW', 'BallPossessionPhase': '52', 'Evaluation': 'unsuccessful', 'PlayAngle': '5.15', 'FromOpenPlay': 'true', 'SemiField': 'false', 'Distance': 'long', 'PenaltyBox': 'false', 'Team': 'DFL-CLU-00000P', 'PlayOrigin': 'ownHalf', 'FlatCross': 'false', 'FreeKickLayup': 'false', 'Direction': 'throughBall'}"
        ],
        [
         "24",
         "TacklingGame",
         "269.41",
         "DFL-CLU-00000P",
         "DFL-OBJ-00003X",
         "1.0",
         "2022-08-26 18:36:37.520000+02:00",
         "4.0",
         "29.0",
         "{'PossessionChange': 'true', 'WinnerTeam': 'DFL-CLU-000011', 'Loser': 'DFL-OBJ-00003X', 'Type': 'air', 'LoserTeam': 'DFL-CLU-00000P', 'WinnerRole': 'withoutBallControl', 'Winner': 'DFL-OBJ-002GEE', 'GoalKeeperInvolved': 'false', 'WinnerResult': 'ballcontactSucceeded', 'LoserRole': 'withBallControl'}"
        ],
        [
         "25",
         "OtherBallAction",
         "275.033",
         "DFL-CLU-00000P",
         "DFL-OBJ-00028V",
         null,
         "2022-08-26 18:36:43.143000+02:00",
         "4.0",
         "35.0",
         "{'Player': 'DFL-OBJ-00028V', 'BallPossessionPhase': '54', 'Team': 'DFL-CLU-00000P'}"
        ],
        [
         "26",
         "OtherBallAction",
         "276.53",
         "DFL-CLU-00000P",
         "DFL-OBJ-00028V",
         null,
         "2022-08-26 18:36:44.640000+02:00",
         "4.0",
         "36.0",
         "{'Player': 'DFL-OBJ-00028V', 'BallPossessionPhase': '82', 'Team': 'DFL-CLU-00000P'}"
        ],
        [
         "27",
         "BallClaiming",
         "279.769",
         "DFL-CLU-00000P",
         "DFL-OBJ-J0130T",
         null,
         "2022-08-26 18:36:47.879000+02:00",
         "4.0",
         "39.0",
         "{'Type': 'InterceptedBall', 'Player': 'DFL-OBJ-J0130T', 'BallPossessionPhase': '56', 'Team': 'DFL-CLU-00000P'}"
        ],
        [
         "28",
         "Play_Pass",
         "279.77",
         "DFL-CLU-00000P",
         "DFL-OBJ-J0130T",
         null,
         "2022-08-26 18:36:47.880000+02:00",
         "4.0",
         "39.0",
         "{'Height': 'high', 'Player': 'DFL-OBJ-J0130T', 'BallPossessionPhase': '56', 'Evaluation': 'successful', 'PlayAngle': '127.99', 'FromOpenPlay': 'true', 'SemiField': 'false', 'Distance': 'short', 'PenaltyBox': 'false', 'Team': 'DFL-CLU-00000P', 'PlayOrigin': 'oppositionHalf', 'FlatCross': 'false', 'FreeKickLayup': 'false'}"
        ],
        [
         "29",
         "TacklingGame",
         "280.481",
         "DFL-CLU-00000P",
         "DFL-OBJ-J0130T",
         "0.0",
         "2022-08-26 18:36:48.591000+02:00",
         "4.0",
         "40.0",
         "{'PossessionChange': 'false', 'WinnerTeam': 'DFL-CLU-00000P', 'Loser': 'DFL-OBJ-0027B0', 'Type': 'ground', 'LoserTeam': 'DFL-CLU-000011', 'WinnerRole': 'withBallControl', 'Winner': 'DFL-OBJ-J0130T', 'GoalKeeperInvolved': 'false', 'WinnerResult': 'fouled', 'LoserRole': 'withoutBallControl'}"
        ],
        [
         "30",
         "FreeKick_Play_Pass",
         "305.146",
         "DFL-CLU-00000P",
         "DFL-OBJ-00028V",
         null,
         "2022-08-26 18:37:13.256000+02:00",
         "5.0",
         "5.0",
         "{'ExecutionMode': 'direct', 'Team': 'DFL-CLU-00000P', 'DecisionTimestamp': '2022-08-26T18:36:54.344+02:00', 'Recipient': 'DFL-OBJ-J014UG', 'Height': 'flat', 'Player': 'DFL-OBJ-00028V', 'BallPossessionPhase': '59', 'Evaluation': 'successfullyCompleted', 'PlayAngle': '184.35', 'FromOpenPlay': 'false', 'SemiField': 'false', 'Distance': 'medium', 'PenaltyBox': 'false', 'PlayOrigin': 'oppositionHalf', 'FlatCross': 'false', 'FreeKickLayup': 'false'}"
        ],
        [
         "31",
         "Play_Pass",
         "307.378",
         "DFL-CLU-00000P",
         "DFL-OBJ-J014UG",
         null,
         "2022-08-26 18:37:15.488000+02:00",
         "5.0",
         "7.0",
         "{'Recipient': 'DFL-OBJ-00006V', 'Height': 'flat', 'Player': 'DFL-OBJ-J014UG', 'BallPossessionPhase': '60', 'Evaluation': 'successfullyCompleted', 'PlayAngle': '99.51', 'FromOpenPlay': 'true', 'SemiField': 'false', 'Distance': 'medium', 'PenaltyBox': 'false', 'Team': 'DFL-CLU-00000P', 'PlayOrigin': 'ownHalf', 'FlatCross': 'false', 'FreeKickLayup': 'false'}"
        ],
        [
         "32",
         "Play_Pass",
         "311.05",
         "DFL-CLU-00000P",
         "DFL-OBJ-00006V",
         null,
         "2022-08-26 18:37:19.160000+02:00",
         "5.0",
         "11.0",
         "{'Recipient': 'DFL-OBJ-0028FW', 'Height': 'flat', 'Player': 'DFL-OBJ-00006V', 'BallPossessionPhase': '61', 'Evaluation': 'successfullyCompleted', 'PlayAngle': '225.60', 'FromOpenPlay': 'true', 'SemiField': 'false', 'Distance': 'medium', 'PenaltyBox': 'false', 'Team': 'DFL-CLU-00000P', 'PlayOrigin': 'ownHalf', 'FlatCross': 'false', 'FreeKickLayup': 'false'}"
        ],
        [
         "33",
         "Play_Pass",
         "314.89",
         "DFL-CLU-00000P",
         "DFL-OBJ-0028FW",
         null,
         "2022-08-26 18:37:23+02:00",
         "5.0",
         "14.0",
         "{'Recipient': 'DFL-OBJ-J0130T', 'Height': 'flat', 'Player': 'DFL-OBJ-0028FW', 'BallPossessionPhase': '62', 'Evaluation': 'successfullyCompleted', 'PlayAngle': '333.80', 'FromOpenPlay': 'true', 'SemiField': 'false', 'Distance': 'medium', 'PenaltyBox': 'false', 'Team': 'DFL-CLU-00000P', 'PlayOrigin': 'ownHalf', 'FlatCross': 'false', 'FreeKickLayup': 'false'}"
        ],
        [
         "34",
         "OtherBallAction",
         "315.49",
         "DFL-CLU-00000P",
         "DFL-OBJ-J0130T",
         null,
         "2022-08-26 18:37:23.600000+02:00",
         "5.0",
         "15.0",
         "{'Player': 'DFL-OBJ-J0130T', 'BallPossessionPhase': '63', 'Team': 'DFL-CLU-00000P'}"
        ],
        [
         "35",
         "TacklingGame",
         "320.675",
         "DFL-CLU-00000P",
         "DFL-OBJ-J0130T",
         "1.0",
         "2022-08-26 18:37:28.785000+02:00",
         "5.0",
         "20.0",
         "{'PossessionChange': 'true', 'WinnerTeam': 'DFL-CLU-000011', 'Loser': 'DFL-OBJ-J0130T', 'Type': 'ground', 'LoserTeam': 'DFL-CLU-00000P', 'WinnerRole': 'withoutBallControl', 'Winner': 'DFL-OBJ-0027VS', 'GoalKeeperInvolved': 'false', 'WinnerResult': 'ballClaimed', 'LoserRole': 'withBallControl', 'WinnerAction': 'shotAssist'}"
        ],
        [
         "36",
         "GoalKick_Play_Pass",
         "347.747",
         "DFL-CLU-00000P",
         "DFL-OBJ-0028FW",
         null,
         "2022-08-26 18:37:55.857000+02:00",
         "5.0",
         "47.0",
         "{'Team': 'DFL-CLU-00000P', 'DecisionTimestamp': '2022-08-26T18:37:33.776+02:00', 'Recipient': 'DFL-OBJ-J01CP5', 'Height': 'high', 'Player': 'DFL-OBJ-0028FW', 'BallPossessionPhase': '68', 'Evaluation': 'successfullyCompleted', 'PlayAngle': '315.67', 'FromOpenPlay': 'false', 'SemiField': 'false', 'Distance': 'medium', 'PenaltyBox': 'false', 'PlayOrigin': 'ownHalf', 'FlatCross': 'false', 'FreeKickLayup': 'false'}"
        ],
        [
         "37",
         "Play_Pass",
         "352.117",
         "DFL-CLU-00000P",
         "DFL-OBJ-J01CP5",
         null,
         "2022-08-26 18:38:00.227000+02:00",
         "5.0",
         "52.0",
         "{'Recipient': 'DFL-OBJ-002GM1', 'Height': 'flat', 'Player': 'DFL-OBJ-J01CP5', 'BallPossessionPhase': '69', 'Evaluation': 'successfullyCompleted', 'PlayAngle': '1.89', 'FromOpenPlay': 'true', 'SemiField': 'false', 'Distance': 'medium', 'PenaltyBox': 'false', 'Team': 'DFL-CLU-00000P', 'PlayOrigin': 'ownHalf', 'FlatCross': 'false', 'FreeKickLayup': 'false'}"
        ],
        [
         "38",
         "OtherBallAction",
         "353.243",
         "DFL-CLU-00000P",
         "DFL-OBJ-002GM1",
         null,
         "2022-08-26 18:38:01.353000+02:00",
         "5.0",
         "53.0",
         "{'Player': 'DFL-OBJ-002GM1', 'BallPossessionPhase': '71', 'Team': 'DFL-CLU-00000P'}"
        ],
        [
         "39",
         "TacklingGame",
         "354.635",
         "DFL-CLU-00000P",
         "DFL-OBJ-002GM1",
         "0.0",
         "2022-08-26 18:38:02.745000+02:00",
         "5.0",
         "54.0",
         "{'DribblingType': 'overrun', 'DribbleEvaluation': 'successful', 'PossessionChange': 'false', 'WinnerTeam': 'DFL-CLU-00000P', 'DribblingSide': 'left', 'Loser': 'DFL-OBJ-0028SW', 'Type': 'ground', 'LoserTeam': 'DFL-CLU-000011', 'WinnerRole': 'withBallControl', 'Winner': 'DFL-OBJ-002GM1', 'BallPossessionPhase': '71', 'GoalKeeperInvolved': 'false', 'WinnerResult': 'fouled', 'LoserRole': 'withoutBallControl'}"
        ],
        [
         "40",
         "FreeKick_Play_Pass",
         "398.014",
         "DFL-CLU-00000P",
         "DFL-OBJ-J01CP5",
         null,
         "2022-08-26 18:38:46.124000+02:00",
         "6.0",
         "38.0",
         "{'ExecutionMode': 'direct', 'Team': 'DFL-CLU-00000P', 'DecisionTimestamp': '2022-08-26T18:38:10.233+02:00', 'Recipient': 'DFL-OBJ-00268T', 'Height': 'high', 'Player': 'DFL-OBJ-J01CP5', 'BallPossessionPhase': '75', 'Evaluation': 'unsuccessful', 'PlayAngle': '34.08', 'FromOpenPlay': 'false', 'SemiField': 'false', 'Distance': 'long', 'PenaltyBox': 'false', 'PlayOrigin': 'oppositionHalf', 'FlatCross': 'false', 'FreeKickLayup': 'false', 'Direction': 'diagonalBall'}"
        ],
        [
         "41",
         "TacklingGame",
         "400.252",
         "DFL-CLU-00000P",
         "DFL-OBJ-00003X",
         "1.0",
         "2022-08-26 18:38:48.362000+02:00",
         "6.0",
         "40.0",
         "{'PossessionChange': 'false', 'WinnerTeam': 'DFL-CLU-000011', 'Loser': 'DFL-OBJ-00003X', 'Type': 'air', 'LoserTeam': 'DFL-CLU-00000P', 'WinnerRole': 'withoutBallControl', 'Winner': 'DFL-OBJ-00268T', 'GoalKeeperInvolved': 'false', 'WinnerResult': 'ballcontactSucceeded', 'LoserRole': 'withBallControl'}"
        ],
        [
         "42",
         "Play_Pass",
         "403.98",
         "DFL-CLU-00000P",
         "DFL-OBJ-J01CP5",
         null,
         "2022-08-26 18:38:52.090000+02:00",
         "6.0",
         "43.0",
         "{'Height': 'high', 'Player': 'DFL-OBJ-J01CP5', 'BallPossessionPhase': '79', 'Evaluation': 'successful', 'PlayAngle': '101.25', 'FromOpenPlay': 'true', 'SemiField': 'false', 'Distance': 'short', 'PenaltyBox': 'false', 'Team': 'DFL-CLU-00000P', 'PlayOrigin': 'oppositionHalf', 'FlatCross': 'false', 'FreeKickLayup': 'false'}"
        ],
        [
         "43",
         "TacklingGame",
         "405.027",
         "DFL-CLU-00000P",
         "DFL-OBJ-J01CP5",
         "0.0",
         "2022-08-26 18:38:53.137000+02:00",
         "6.0",
         "45.0",
         "{'PossessionChange': 'false', 'WinnerTeam': 'DFL-CLU-00000P', 'Loser': 'DFL-OBJ-002GAB', 'Type': 'ground', 'LoserTeam': 'DFL-CLU-000011', 'WinnerRole': 'withBallControl', 'Winner': 'DFL-OBJ-J01CP5', 'GoalKeeperInvolved': 'false', 'WinnerResult': 'fouled', 'LoserRole': 'withoutBallControl'}"
        ],
        [
         "44",
         "FreeKick_Play_Pass",
         "413.892",
         "DFL-CLU-00000P",
         "DFL-OBJ-J0130T",
         null,
         "2022-08-26 18:39:02.002000+02:00",
         "6.0",
         "53.0",
         "{'ExecutionMode': 'direct', 'Team': 'DFL-CLU-00000P', 'DecisionTimestamp': '2022-08-26T18:38:57.274+02:00', 'Recipient': 'DFL-OBJ-00006V', 'Height': 'flat', 'Player': 'DFL-OBJ-J0130T', 'BallPossessionPhase': '83', 'Evaluation': 'successfullyCompleted', 'PlayAngle': '104.86', 'FromOpenPlay': 'false', 'SemiField': 'false', 'Distance': 'medium', 'PenaltyBox': 'false', 'PlayOrigin': 'oppositionHalf', 'FlatCross': 'false', 'FreeKickLayup': 'false'}"
        ],
        [
         "45",
         "Play_Pass",
         "416.948",
         "DFL-CLU-00000P",
         "DFL-OBJ-00006V",
         null,
         "2022-08-26 18:39:05.058000+02:00",
         "6.0",
         "56.0",
         "{'Recipient': 'DFL-OBJ-0000NZ', 'Height': 'flat', 'Player': 'DFL-OBJ-00006V', 'BallPossessionPhase': '84', 'Evaluation': 'successfullyCompleted', 'PlayAngle': '88.12', 'FromOpenPlay': 'true', 'SemiField': 'false', 'Distance': 'short', 'PenaltyBox': 'false', 'Team': 'DFL-CLU-00000P', 'PlayOrigin': 'ownHalf', 'FlatCross': 'false', 'FreeKickLayup': 'false'}"
        ],
        [
         "46",
         "Play_Pass",
         "419.068",
         "DFL-CLU-00000P",
         "DFL-OBJ-0000NZ",
         null,
         "2022-08-26 18:39:07.178000+02:00",
         "6.0",
         "59.0",
         "{'Recipient': 'DFL-OBJ-002GEE', 'Height': 'high', 'Player': 'DFL-OBJ-0000NZ', 'BallPossessionPhase': '85', 'Evaluation': 'unsuccessful', 'PlayAngle': '349.22', 'FromOpenPlay': 'true', 'SemiField': 'false', 'Distance': 'long', 'PenaltyBox': 'false', 'Team': 'DFL-CLU-00000P', 'PlayOrigin': 'ownHalf', 'FlatCross': 'false', 'FreeKickLayup': 'false', 'Direction': 'throughBall'}"
        ],
        [
         "47",
         "Delete",
         "423.388",
         null,
         null,
         null,
         "2022-08-26 18:39:11.498000+02:00",
         "7.0",
         "3.0",
         "{}"
        ],
        [
         "48",
         "Play_Cross",
         "425.97",
         "DFL-CLU-00000P",
         "DFL-OBJ-002FXT",
         null,
         "2022-08-26 18:39:14.080000+02:00",
         "7.0",
         "5.0",
         "{'Recipient': 'DFL-OBJ-002GM1', 'Height': 'high', 'Player': 'DFL-OBJ-002FXT', 'BallPossessionPhase': '89', 'Evaluation': 'successfullyCompleted', 'PlayAngle': '273.40', 'Rotation': 'awayFromGoal', 'FromOpenPlay': 'true', 'SemiField': 'false', 'Distance': 'medium', 'PenaltyBox': 'true', 'Team': 'DFL-CLU-00000P', 'PlayOrigin': 'oppositionHalf', 'FlatCross': 'false', 'Side': 'right'}"
        ],
        [
         "49",
         "PenaltyNotAwarded",
         "426.13",
         "DFL-CLU-00000P",
         null,
         null,
         "2022-08-26 18:39:14.240000+02:00",
         "7.0",
         "6.0",
         "{'CausingPlayer': 'DFL-OBJ-00268T', 'Reason': 'handBall', 'PlayerToBeAwarded': 'DFL-OBJ-002FXT', 'RefDecisionEvaluation': 'correct', 'Team': 'DFL-CLU-00000P'}"
        ]
       ],
       "shape": {
        "columns": 9,
        "rows": 410
       }
      },
      "text/html": [
       "<div>\n",
       "<style scoped>\n",
       "    .dataframe tbody tr th:only-of-type {\n",
       "        vertical-align: middle;\n",
       "    }\n",
       "\n",
       "    .dataframe tbody tr th {\n",
       "        vertical-align: top;\n",
       "    }\n",
       "\n",
       "    .dataframe thead th {\n",
       "        text-align: right;\n",
       "    }\n",
       "</style>\n",
       "<table border=\"1\" class=\"dataframe\">\n",
       "  <thead>\n",
       "    <tr style=\"text-align: right;\">\n",
       "      <th></th>\n",
       "      <th>eID</th>\n",
       "      <th>gameclock</th>\n",
       "      <th>tID</th>\n",
       "      <th>pID</th>\n",
       "      <th>outcome</th>\n",
       "      <th>timestamp</th>\n",
       "      <th>minute</th>\n",
       "      <th>second</th>\n",
       "      <th>qualifier</th>\n",
       "    </tr>\n",
       "  </thead>\n",
       "  <tbody>\n",
       "    <tr>\n",
       "      <th>0</th>\n",
       "      <td>Foul</td>\n",
       "      <td>12.822</td>\n",
       "      <td>DFL-CLU-00000P</td>\n",
       "      <td>DFL-OBJ-00006V</td>\n",
       "      <td>NaN</td>\n",
       "      <td>2022-08-26 18:32:20.932000+02:00</td>\n",
       "      <td>0.0</td>\n",
       "      <td>12.0</td>\n",
       "      <td>{'FoulType': 'foul', 'CommittingPlayerAction':...</td>\n",
       "    </tr>\n",
       "    <tr>\n",
       "      <th>1</th>\n",
       "      <td>Caution</td>\n",
       "      <td>16.290</td>\n",
       "      <td>DFL-CLU-00000P</td>\n",
       "      <td>DFL-OBJ-00006V</td>\n",
       "      <td>NaN</td>\n",
       "      <td>2022-08-26 18:32:24.400000+02:00</td>\n",
       "      <td>0.0</td>\n",
       "      <td>16.0</td>\n",
       "      <td>{'CardRating': 'yellow', 'Player': 'DFL-OBJ-00...</td>\n",
       "    </tr>\n",
       "    <tr>\n",
       "      <th>2</th>\n",
       "      <td>Delete</td>\n",
       "      <td>79.856</td>\n",
       "      <td>None</td>\n",
       "      <td>None</td>\n",
       "      <td>NaN</td>\n",
       "      <td>2022-08-26 18:33:27.966000+02:00</td>\n",
       "      <td>1.0</td>\n",
       "      <td>19.0</td>\n",
       "      <td>{}</td>\n",
       "    </tr>\n",
       "    <tr>\n",
       "      <th>3</th>\n",
       "      <td>Delete</td>\n",
       "      <td>82.690</td>\n",
       "      <td>None</td>\n",
       "      <td>None</td>\n",
       "      <td>NaN</td>\n",
       "      <td>2022-08-26 18:33:30.800000+02:00</td>\n",
       "      <td>1.0</td>\n",
       "      <td>22.0</td>\n",
       "      <td>{}</td>\n",
       "    </tr>\n",
       "    <tr>\n",
       "      <th>4</th>\n",
       "      <td>OtherBallAction</td>\n",
       "      <td>85.215</td>\n",
       "      <td>DFL-CLU-00000P</td>\n",
       "      <td>DFL-OBJ-0028FW</td>\n",
       "      <td>NaN</td>\n",
       "      <td>2022-08-26 18:33:33.325000+02:00</td>\n",
       "      <td>1.0</td>\n",
       "      <td>25.0</td>\n",
       "      <td>{'Player': 'DFL-OBJ-0028FW', 'BallPossessionPh...</td>\n",
       "    </tr>\n",
       "    <tr>\n",
       "      <th>...</th>\n",
       "      <td>...</td>\n",
       "      <td>...</td>\n",
       "      <td>...</td>\n",
       "      <td>...</td>\n",
       "      <td>...</td>\n",
       "      <td>...</td>\n",
       "      <td>...</td>\n",
       "      <td>...</td>\n",
       "      <td>...</td>\n",
       "    </tr>\n",
       "    <tr>\n",
       "      <th>405</th>\n",
       "      <td>OtherBallAction</td>\n",
       "      <td>2740.250</td>\n",
       "      <td>DFL-CLU-00000P</td>\n",
       "      <td>DFL-OBJ-00003X</td>\n",
       "      <td>NaN</td>\n",
       "      <td>2022-08-26 19:17:48.360000+02:00</td>\n",
       "      <td>45.0</td>\n",
       "      <td>40.0</td>\n",
       "      <td>{'Player': 'DFL-OBJ-00003X', 'BallPossessionPh...</td>\n",
       "    </tr>\n",
       "    <tr>\n",
       "      <th>406</th>\n",
       "      <td>TacklingGame</td>\n",
       "      <td>2744.030</td>\n",
       "      <td>DFL-CLU-00000P</td>\n",
       "      <td>DFL-OBJ-00006V</td>\n",
       "      <td>1.0</td>\n",
       "      <td>2022-08-26 19:17:52.140000+02:00</td>\n",
       "      <td>45.0</td>\n",
       "      <td>44.0</td>\n",
       "      <td>{'PossessionChange': 'true', 'WinnerTeam': 'DF...</td>\n",
       "    </tr>\n",
       "    <tr>\n",
       "      <th>407</th>\n",
       "      <td>Foul</td>\n",
       "      <td>2744.543</td>\n",
       "      <td>DFL-CLU-00000P</td>\n",
       "      <td>DFL-OBJ-00006V</td>\n",
       "      <td>NaN</td>\n",
       "      <td>2022-08-26 19:17:52.653000+02:00</td>\n",
       "      <td>45.0</td>\n",
       "      <td>44.0</td>\n",
       "      <td>{'FoulType': 'foul', 'Fouler': 'DFL-OBJ-00006V...</td>\n",
       "    </tr>\n",
       "    <tr>\n",
       "      <th>408</th>\n",
       "      <td>Delete</td>\n",
       "      <td>2753.590</td>\n",
       "      <td>None</td>\n",
       "      <td>None</td>\n",
       "      <td>NaN</td>\n",
       "      <td>2022-08-26 19:18:01.700000+02:00</td>\n",
       "      <td>45.0</td>\n",
       "      <td>53.0</td>\n",
       "      <td>{}</td>\n",
       "    </tr>\n",
       "    <tr>\n",
       "      <th>409</th>\n",
       "      <td>FinalWhistle</td>\n",
       "      <td>2770.890</td>\n",
       "      <td>None</td>\n",
       "      <td>None</td>\n",
       "      <td>NaN</td>\n",
       "      <td>2022-08-26 19:18:19+02:00</td>\n",
       "      <td>46.0</td>\n",
       "      <td>10.0</td>\n",
       "      <td>{'GameSection': 'firstHalf', 'BreakingOff': 'f...</td>\n",
       "    </tr>\n",
       "  </tbody>\n",
       "</table>\n",
       "<p>410 rows × 9 columns</p>\n",
       "</div>"
      ],
      "text/plain": [
       "                 eID  gameclock             tID             pID  outcome  \\\n",
       "0               Foul     12.822  DFL-CLU-00000P  DFL-OBJ-00006V      NaN   \n",
       "1            Caution     16.290  DFL-CLU-00000P  DFL-OBJ-00006V      NaN   \n",
       "2             Delete     79.856            None            None      NaN   \n",
       "3             Delete     82.690            None            None      NaN   \n",
       "4    OtherBallAction     85.215  DFL-CLU-00000P  DFL-OBJ-0028FW      NaN   \n",
       "..               ...        ...             ...             ...      ...   \n",
       "405  OtherBallAction   2740.250  DFL-CLU-00000P  DFL-OBJ-00003X      NaN   \n",
       "406     TacklingGame   2744.030  DFL-CLU-00000P  DFL-OBJ-00006V      1.0   \n",
       "407             Foul   2744.543  DFL-CLU-00000P  DFL-OBJ-00006V      NaN   \n",
       "408           Delete   2753.590            None            None      NaN   \n",
       "409     FinalWhistle   2770.890            None            None      NaN   \n",
       "\n",
       "                           timestamp  minute  second  \\\n",
       "0   2022-08-26 18:32:20.932000+02:00     0.0    12.0   \n",
       "1   2022-08-26 18:32:24.400000+02:00     0.0    16.0   \n",
       "2   2022-08-26 18:33:27.966000+02:00     1.0    19.0   \n",
       "3   2022-08-26 18:33:30.800000+02:00     1.0    22.0   \n",
       "4   2022-08-26 18:33:33.325000+02:00     1.0    25.0   \n",
       "..                               ...     ...     ...   \n",
       "405 2022-08-26 19:17:48.360000+02:00    45.0    40.0   \n",
       "406 2022-08-26 19:17:52.140000+02:00    45.0    44.0   \n",
       "407 2022-08-26 19:17:52.653000+02:00    45.0    44.0   \n",
       "408 2022-08-26 19:18:01.700000+02:00    45.0    53.0   \n",
       "409        2022-08-26 19:18:19+02:00    46.0    10.0   \n",
       "\n",
       "                                             qualifier  \n",
       "0    {'FoulType': 'foul', 'CommittingPlayerAction':...  \n",
       "1    {'CardRating': 'yellow', 'Player': 'DFL-OBJ-00...  \n",
       "2                                                   {}  \n",
       "3                                                   {}  \n",
       "4    {'Player': 'DFL-OBJ-0028FW', 'BallPossessionPh...  \n",
       "..                                                 ...  \n",
       "405  {'Player': 'DFL-OBJ-00003X', 'BallPossessionPh...  \n",
       "406  {'PossessionChange': 'true', 'WinnerTeam': 'DF...  \n",
       "407  {'FoulType': 'foul', 'Fouler': 'DFL-OBJ-00006V...  \n",
       "408                                                 {}  \n",
       "409  {'GameSection': 'firstHalf', 'BreakingOff': 'f...  \n",
       "\n",
       "[410 rows x 9 columns]"
      ]
     },
     "execution_count": 69,
     "metadata": {},
     "output_type": "execute_result"
    }
   ],
   "source": [
    "events['firstHalf']['Home'].events"
   ]
  },
  {
   "cell_type": "code",
   "execution_count": null,
   "id": "28ebb6dd",
   "metadata": {},
   "outputs": [],
   "source": [
    "COL_FACE = \"lightgrey\"\n",
    "def plot_goal_positions(xy_objects, events, pitch):\n",
    "    print(xy_objects[\"firstHalf\"][\"Home\"])\n",
    "    #print list functions and attribute of type(xy_objects[\"firstHalf\"][\"Home\"])\n",
    "    #print dir(xy_objects[\"firstHalf\"][\"Home\"])\n",
    "    #print dir(xy_objects[\"firstHalf\"][\"Home\"].events)\n",
    "    #print dir(xy_objects[\"firstHalf\"][\"Home\"].events[\"eID\"])\n",
    "    # return\n",
    "    framerate = xy_objects[\"secondHalf\"][\"Home\"].framerate\n",
    "    events[\"secondHalf\"][\"Home\"].add_frameclock(framerate)\n",
    "    goals = events[\"secondHalf\"][\"Home\"].events.loc[events[\"secondHalf\"][\"Home\"].events[\"eID\"] == \"ShotAtGoal_SuccessfulShot\"]\n",
    "    first_goal = goals.iloc[0]\n",
    "    frame_first_goal = int(first_goal[\"gameclock\"] * framerate + 1.6 * framerate)  # offset event clock, pos data\n",
    "    second_before_goal = frame_first_goal - 5 * framerate\n",
    "    second_after_goal = frame_first_goal + 5 * framerate\n",
    "\n",
    "    fig, ax = plt.subplots(tight_layout=True, figsize=(16, 10))\n",
    "    pitch.plot(ax=ax)\n",
    "    ax.set_facecolor(COL_FACE)\n",
    "\n",
    "    xy_objects[\"secondHalf\"][\"Home\"].plot(t=(second_before_goal, second_after_goal), plot_type=\"trajectories\", color=\"blue\", ax=ax)\n",
    "    xy_objects[\"secondHalf\"][\"Away\"].plot(t=(second_before_goal, second_after_goal), plot_type=\"trajectories\", color=\"red\", ax=ax)\n",
    "    xy_objects[\"secondHalf\"][\"Ball\"].plot(t=(second_before_goal, second_after_goal), plot_type=\"trajectories\", color=\"black\", ax=ax)\n",
    "    xy_objects[\"secondHalf\"][\"Home\"].plot(t=frame_first_goal, color=\"blue\", ax=ax)\n",
    "    xy_objects[\"secondHalf\"][\"Away\"].plot(t=frame_first_goal, color=\"red\", ax=ax)\n",
    "    xy_objects[\"secondHalf\"][\"Ball\"].plot(t=frame_first_goal, color=\"black\", ax=ax)\n"
   ]
  },
  {
   "cell_type": "code",
   "execution_count": 69,
   "id": "020b4238",
   "metadata": {},
   "outputs": [
    {
     "name": "stdout",
     "output_type": "stream",
     "text": [
      "Floodlight XY object of shape (69424, 40)\n"
     ]
    },
    {
     "data": {
      "image/png": "[encoded data removed]",
      "text/plain": [
       "<Figure size 1600x1000 with 1 Axes>"
      ]
     },
     "metadata": {},
     "output_type": "display_data"
    }
   ],
   "source": [
    "plot_goal_positions(xy_objects, events, pitch)"
   ]
  },
  {
   "cell_type": "code",
   "execution_count": 25,
   "id": "42ba6aa1",
   "metadata": {},
   "outputs": [
    {
     "name": "stdout",
     "output_type": "stream",
     "text": [
      "69424\n",
      "69424\n"
     ]
    }
   ],
   "source": [
    "#  print(dir(xy_objects[\"firstHalf\"][\"Home\"]))\n",
    "\n",
    "first_home = xy_objects[\"firstHalf\"][\"Home\"]\n",
    "first_away = xy_objects[\"secondHalf\"][\"Home\"]\n",
    "type(first_home)\n",
    "print(len(first_home.x))\n",
    "print(len(first_home.x))"
   ]
  },
  {
   "cell_type": "code",
   "execution_count": 76,
   "id": "e4df8a2d",
   "metadata": {},
   "outputs": [
    {
     "data": {
      "text/plain": [
       "np.float64(8.81)"
      ]
     },
     "execution_count": 76,
     "metadata": {},
     "output_type": "execute_result"
    }
   ],
   "source": [
    "events_first_away = events[\"secondHalf\"][\"Away\"].events\n",
    "events_first_away.gameclock.min()"
   ]
  },
  {
   "cell_type": "code",
   "execution_count": 86,
   "id": "85fc2d68",
   "metadata": {},
   "outputs": [],
   "source": [
    "# encode labels of all_events in dictionary sorted by eID\n",
    "events_labels = {}\n",
    "sorted_events = all_events.sort_values(by=[\"eID\"])\n",
    "i = 0\n",
    "\n",
    "for eID in sorted_events[\"eID\"].unique():\n",
    "    events_labels[eID] = i\n",
    "    i += 1\n",
    "\n",
    "# pickle the events_labels dictionary\n",
    "import pickle\n",
    "with open(\"events_labels.pkl\", \"wb\") as f:\n",
    "    pickle.dump(events_labels, f)"
   ]
  },
  {
   "cell_type": "code",
   "execution_count": 43,
   "id": "7bd313b4",
   "metadata": {},
   "outputs": [
    {
     "data": {
      "application/vnd.microsoft.datawrangler.viewer.v0+json": {
       "columns": [
        {
         "name": "index",
         "rawType": "int64",
         "type": "integer"
        },
        {
         "name": "eID",
         "rawType": "object",
         "type": "string"
        },
        {
         "name": "gameclock",
         "rawType": "float64",
         "type": "float"
        },
        {
         "name": "tID",
         "rawType": "object",
         "type": "unknown"
        },
        {
         "name": "pID",
         "rawType": "object",
         "type": "unknown"
        },
        {
         "name": "outcome",
         "rawType": "float64",
         "type": "float"
        },
        {
         "name": "timestamp",
         "rawType": "datetime64[ns, +02:00]",
         "type": "unknown"
        },
        {
         "name": "minute",
         "rawType": "float64",
         "type": "float"
        },
        {
         "name": "second",
         "rawType": "float64",
         "type": "float"
        },
        {
         "name": "qualifier",
         "rawType": "object",
         "type": "unknown"
        }
       ],
       "conversionMethod": "pd.DataFrame",
       "ref": "1993febb-3c99-40ce-98f9-885246a26036",
       "rows": [
        [
         "0",
         "Foul",
         "12.822",
         "DFL-CLU-00000P",
         "DFL-OBJ-00006V",
         null,
         "2022-08-26 18:32:20.932000+02:00",
         "0.0",
         "12.0",
         "{'FoulType': 'foul', 'CommittingPlayerAction': 'slidingTackle', 'Fouler': 'DFL-OBJ-00006V', 'TeamFouled': 'DFL-CLU-000011', 'TeamFouler': 'DFL-CLU-00000P', 'Fouled': 'DFL-OBJ-0027XP'}"
        ],
        [
         "1",
         "Caution",
         "16.29",
         "DFL-CLU-00000P",
         "DFL-OBJ-00006V",
         null,
         "2022-08-26 18:32:24.400000+02:00",
         "0.0",
         "16.0",
         "{'CardRating': 'yellow', 'Player': 'DFL-OBJ-00006V', 'CardColor': 'yellow', 'Reason': 'foul', 'OtherReason': 'foul', 'Team': 'DFL-CLU-00000P'}"
        ],
        [
         "2",
         "Delete",
         "79.856",
         null,
         null,
         null,
         "2022-08-26 18:33:27.966000+02:00",
         "1.0",
         "19.0",
         "{}"
        ],
        [
         "3",
         "Delete",
         "82.69",
         null,
         null,
         null,
         "2022-08-26 18:33:30.800000+02:00",
         "1.0",
         "22.0",
         "{}"
        ],
        [
         "4",
         "OtherBallAction",
         "85.215",
         "DFL-CLU-00000P",
         "DFL-OBJ-0028FW",
         null,
         "2022-08-26 18:33:33.325000+02:00",
         "1.0",
         "25.0",
         "{'Player': 'DFL-OBJ-0028FW', 'BallPossessionPhase': '17', 'Team': 'DFL-CLU-00000P'}"
        ],
        [
         "5",
         "Delete",
         "116.144",
         null,
         null,
         null,
         "2022-08-26 18:34:04.254000+02:00",
         "1.0",
         "56.0",
         "{}"
        ],
        [
         "6",
         "OtherBallAction",
         "119.696",
         "DFL-CLU-00000P",
         "DFL-OBJ-00006V",
         null,
         "2022-08-26 18:34:07.806000+02:00",
         "1.0",
         "59.0",
         "{'DefensiveClearance': 'true', 'Player': 'DFL-OBJ-00006V', 'BallPossessionPhase': '23', 'Team': 'DFL-CLU-00000P'}"
        ],
        [
         "7",
         "GoalKick_Play_Pass",
         "177.08",
         "DFL-CLU-00000P",
         "DFL-OBJ-0028FW",
         null,
         "2022-08-26 18:35:05.190000+02:00",
         "2.0",
         "57.0",
         "{'Team': 'DFL-CLU-00000P', 'DecisionTimestamp': '2022-08-26T18:34:46.285+02:00', 'Recipient': 'DFL-OBJ-J01CP5', 'Height': 'flat', 'Player': 'DFL-OBJ-0028FW', 'BallPossessionPhase': '27', 'Evaluation': 'successfullyCompleted', 'PlayAngle': '285.92', 'FromOpenPlay': 'false', 'SemiField': 'false', 'Distance': 'medium', 'PenaltyBox': 'false', 'PlayOrigin': 'ownHalf', 'FlatCross': 'false', 'FreeKickLayup': 'false'}"
        ],
        [
         "8",
         "Play_Pass",
         "179.601",
         "DFL-CLU-00000P",
         "DFL-OBJ-J01CP5",
         null,
         "2022-08-26 18:35:07.711000+02:00",
         "2.0",
         "59.0",
         "{'Recipient': 'DFL-OBJ-J014UG', 'Height': 'flat', 'Player': 'DFL-OBJ-J01CP5', 'BallPossessionPhase': '29', 'Evaluation': 'successfullyCompleted', 'PlayAngle': '131.45', 'FromOpenPlay': 'true', 'SemiField': 'false', 'Distance': 'medium', 'PenaltyBox': 'false', 'Team': 'DFL-CLU-00000P', 'PlayOrigin': 'ownHalf', 'FlatCross': 'false', 'FreeKickLayup': 'false'}"
        ],
        [
         "9",
         "Play_Pass",
         "182.385",
         "DFL-CLU-00000P",
         "DFL-OBJ-J014UG",
         null,
         "2022-08-26 18:35:10.495000+02:00",
         "3.0",
         "2.0",
         "{'Recipient': 'DFL-OBJ-002FXT', 'Height': 'high', 'Player': 'DFL-OBJ-J014UG', 'BallPossessionPhase': '30', 'Evaluation': 'successfullyCompleted', 'PlayAngle': '0.76', 'FromOpenPlay': 'true', 'SemiField': 'false', 'Distance': 'long', 'PenaltyBox': 'false', 'Team': 'DFL-CLU-00000P', 'PlayOrigin': 'ownHalf', 'FlatCross': 'false', 'FreeKickLayup': 'false', 'Direction': 'throughBall'}"
        ],
        [
         "10",
         "Play_Pass",
         "186.289",
         "DFL-CLU-00000P",
         "DFL-OBJ-002FXT",
         null,
         "2022-08-26 18:35:14.399000+02:00",
         "3.0",
         "6.0",
         "{'Recipient': 'DFL-OBJ-0028SW', 'Height': 'high', 'Player': 'DFL-OBJ-002FXT', 'BallPossessionPhase': '31', 'Evaluation': 'unsuccessful', 'PlayAngle': '343.54', 'FromOpenPlay': 'true', 'SemiField': 'false', 'Distance': 'short', 'PenaltyBox': 'false', 'Team': 'DFL-CLU-00000P', 'PlayOrigin': 'ownHalf', 'FlatCross': 'false', 'FreeKickLayup': 'false'}"
        ],
        [
         "11",
         "ThrowIn_Play_Pass",
         "196.553",
         "DFL-CLU-00000P",
         "DFL-OBJ-J01CP5",
         null,
         "2022-08-26 18:35:24.663000+02:00",
         "3.0",
         "16.0",
         "{'Side': 'left', 'Team': 'DFL-CLU-00000P', 'DecisionTimestamp': '2022-08-26T18:35:20.095+02:00', 'Recipient': 'DFL-OBJ-J014UG', 'Height': 'high', 'Player': 'DFL-OBJ-J01CP5', 'BallPossessionPhase': '34', 'Evaluation': 'successfullyCompleted', 'PlayAngle': '161.17', 'FromOpenPlay': 'false', 'SemiField': 'false', 'Distance': 'medium', 'PenaltyBox': 'false', 'PlayOrigin': 'ownHalf', 'FlatCross': 'false', 'FreeKickLayup': 'false'}"
        ],
        [
         "12",
         "Play_Pass",
         "201.321",
         "DFL-CLU-00000P",
         "DFL-OBJ-J014UG",
         null,
         "2022-08-26 18:35:29.431000+02:00",
         "3.0",
         "21.0",
         "{'Recipient': 'DFL-OBJ-0028FW', 'Height': 'flat', 'Player': 'DFL-OBJ-J014UG', 'BallPossessionPhase': '35', 'Evaluation': 'successfullyCompleted', 'PlayAngle': '100.03', 'FromOpenPlay': 'true', 'SemiField': 'false', 'Distance': 'medium', 'PenaltyBox': 'false', 'Team': 'DFL-CLU-00000P', 'PlayOrigin': 'ownHalf', 'FlatCross': 'false', 'FreeKickLayup': 'false'}"
        ],
        [
         "13",
         "Play_Pass",
         "205.003",
         "DFL-CLU-00000P",
         "DFL-OBJ-0028FW",
         null,
         "2022-08-26 18:35:33.113000+02:00",
         "3.0",
         "25.0",
         "{'Recipient': 'DFL-OBJ-J0130T', 'Height': 'flat', 'Player': 'DFL-OBJ-0028FW', 'BallPossessionPhase': '36', 'Evaluation': 'successfullyCompleted', 'PlayAngle': '315.57', 'FromOpenPlay': 'true', 'SemiField': 'false', 'Distance': 'medium', 'PenaltyBox': 'false', 'Team': 'DFL-CLU-00000P', 'PlayOrigin': 'ownHalf', 'FlatCross': 'false', 'FreeKickLayup': 'false'}"
        ],
        [
         "14",
         "Play_Pass",
         "206.337",
         "DFL-CLU-00000P",
         "DFL-OBJ-J0130T",
         null,
         "2022-08-26 18:35:34.447000+02:00",
         "3.0",
         "26.0",
         "{'Recipient': 'DFL-OBJ-J014UG', 'Height': 'flat', 'Player': 'DFL-OBJ-J0130T', 'BallPossessionPhase': '37', 'Evaluation': 'successfullyCompleted', 'PlayAngle': '207.97', 'FromOpenPlay': 'true', 'SemiField': 'false', 'Distance': 'medium', 'PenaltyBox': 'false', 'Team': 'DFL-CLU-00000P', 'PlayOrigin': 'ownHalf', 'FlatCross': 'false', 'FreeKickLayup': 'false'}"
        ],
        [
         "15",
         "Play_Pass",
         "212.417",
         "DFL-CLU-00000P",
         "DFL-OBJ-J014UG",
         null,
         "2022-08-26 18:35:40.527000+02:00",
         "3.0",
         "32.0",
         "{'Recipient': 'DFL-OBJ-0027VS', 'Height': 'high', 'Player': 'DFL-OBJ-J014UG', 'BallPossessionPhase': '38', 'Evaluation': 'unsuccessful', 'PlayAngle': '38.71', 'FromOpenPlay': 'true', 'SemiField': 'false', 'Distance': 'medium', 'PenaltyBox': 'false', 'Team': 'DFL-CLU-00000P', 'PlayOrigin': 'ownHalf', 'FlatCross': 'false', 'FreeKickLayup': 'false'}"
        ],
        [
         "16",
         "OtherBallAction",
         "218.201",
         "DFL-CLU-00000P",
         "DFL-OBJ-J01CP5",
         null,
         "2022-08-26 18:35:46.311000+02:00",
         "3.0",
         "38.0",
         "{'Player': 'DFL-OBJ-J01CP5', 'BallPossessionPhase': '41', 'Team': 'DFL-CLU-00000P'}"
        ],
        [
         "17",
         "Play_Pass",
         "238.113",
         "DFL-CLU-00000P",
         "DFL-OBJ-002GM1",
         null,
         "2022-08-26 18:36:06.223000+02:00",
         "3.0",
         "58.0",
         "{'Recipient': 'DFL-OBJ-00003X', 'Height': 'high', 'Player': 'DFL-OBJ-002GM1', 'BallPossessionPhase': '45', 'Evaluation': 'successfullyCompleted', 'PlayAngle': '39.77', 'FromOpenPlay': 'true', 'SemiField': 'false', 'Distance': 'medium', 'PenaltyBox': 'false', 'Team': 'DFL-CLU-00000P', 'PlayOrigin': 'oppositionHalf', 'FlatCross': 'false', 'FreeKickLayup': 'false'}"
        ],
        [
         "18",
         "OtherBallAction",
         "239.404",
         "DFL-CLU-00000P",
         "DFL-OBJ-00003X",
         null,
         "2022-08-26 18:36:07.514000+02:00",
         "3.0",
         "59.0",
         "{'Player': 'DFL-OBJ-00003X', 'BallPossessionPhase': '46', 'Team': 'DFL-CLU-00000P'}"
        ],
        [
         "19",
         "TacklingGame",
         "241.866",
         "DFL-CLU-00000P",
         "DFL-OBJ-002FXT",
         "0.0",
         "2022-08-26 18:36:09.976000+02:00",
         "4.0",
         "1.0",
         "{'PossessionChange': 'false', 'WinnerTeam': 'DFL-CLU-00000P', 'Loser': 'DFL-OBJ-00268T', 'Type': 'ground', 'LoserTeam': 'DFL-CLU-000011', 'WinnerRole': 'withBallControl', 'Winner': 'DFL-OBJ-002FXT', 'GoalKeeperInvolved': 'false', 'WinnerResult': 'ballControlRetained', 'LoserRole': 'withoutBallControl'}"
        ],
        [
         "20",
         "Play_Pass",
         "249.585",
         "DFL-CLU-00000P",
         "DFL-OBJ-002FXT",
         null,
         "2022-08-26 18:36:17.695000+02:00",
         "4.0",
         "9.0",
         "{'Height': 'high', 'Player': 'DFL-OBJ-002FXT', 'BallPossessionPhase': '47', 'Evaluation': 'unsuccessful', 'PlayAngle': '181.07', 'FromOpenPlay': 'true', 'SemiField': 'false', 'Distance': 'long', 'PenaltyBox': 'false', 'Team': 'DFL-CLU-00000P', 'PlayOrigin': 'oppositionHalf', 'FlatCross': 'false', 'FreeKickLayup': 'false', 'Direction': 'squarePass'}"
        ],
        [
         "21",
         "BallClaiming",
         "265.105",
         "DFL-CLU-00000P",
         "DFL-OBJ-J014UG",
         null,
         "2022-08-26 18:36:33.215000+02:00",
         "4.0",
         "25.0",
         "{'Type': 'InterceptedBall', 'Player': 'DFL-OBJ-J014UG', 'BallPossessionPhase': '51', 'Team': 'DFL-CLU-00000P'}"
        ],
        [
         "22",
         "Play_Pass",
         "265.106",
         "DFL-CLU-00000P",
         "DFL-OBJ-J014UG",
         null,
         "2022-08-26 18:36:33.216000+02:00",
         "4.0",
         "25.0",
         "{'Recipient': 'DFL-OBJ-0028FW', 'Height': 'high', 'Player': 'DFL-OBJ-J014UG', 'BallPossessionPhase': '51', 'Evaluation': 'successfullyCompleted', 'PlayAngle': '148.28', 'FromOpenPlay': 'true', 'SemiField': 'false', 'Distance': 'medium', 'PenaltyBox': 'false', 'Team': 'DFL-CLU-00000P', 'PlayOrigin': 'ownHalf', 'FlatCross': 'false', 'FreeKickLayup': 'false'}"
        ],
        [
         "23",
         "Play_Pass",
         "269.218",
         "DFL-CLU-00000P",
         "DFL-OBJ-0028FW",
         null,
         "2022-08-26 18:36:37.328000+02:00",
         "4.0",
         "29.0",
         "{'Recipient': 'DFL-OBJ-002GEE', 'Height': 'high', 'Player': 'DFL-OBJ-0028FW', 'BallPossessionPhase': '52', 'Evaluation': 'unsuccessful', 'PlayAngle': '5.15', 'FromOpenPlay': 'true', 'SemiField': 'false', 'Distance': 'long', 'PenaltyBox': 'false', 'Team': 'DFL-CLU-00000P', 'PlayOrigin': 'ownHalf', 'FlatCross': 'false', 'FreeKickLayup': 'false', 'Direction': 'throughBall'}"
        ],
        [
         "24",
         "TacklingGame",
         "269.41",
         "DFL-CLU-00000P",
         "DFL-OBJ-00003X",
         "1.0",
         "2022-08-26 18:36:37.520000+02:00",
         "4.0",
         "29.0",
         "{'PossessionChange': 'true', 'WinnerTeam': 'DFL-CLU-000011', 'Loser': 'DFL-OBJ-00003X', 'Type': 'air', 'LoserTeam': 'DFL-CLU-00000P', 'WinnerRole': 'withoutBallControl', 'Winner': 'DFL-OBJ-002GEE', 'GoalKeeperInvolved': 'false', 'WinnerResult': 'ballcontactSucceeded', 'LoserRole': 'withBallControl'}"
        ],
        [
         "25",
         "OtherBallAction",
         "275.033",
         "DFL-CLU-00000P",
         "DFL-OBJ-00028V",
         null,
         "2022-08-26 18:36:43.143000+02:00",
         "4.0",
         "35.0",
         "{'Player': 'DFL-OBJ-00028V', 'BallPossessionPhase': '54', 'Team': 'DFL-CLU-00000P'}"
        ],
        [
         "26",
         "OtherBallAction",
         "276.53",
         "DFL-CLU-00000P",
         "DFL-OBJ-00028V",
         null,
         "2022-08-26 18:36:44.640000+02:00",
         "4.0",
         "36.0",
         "{'Player': 'DFL-OBJ-00028V', 'BallPossessionPhase': '82', 'Team': 'DFL-CLU-00000P'}"
        ],
        [
         "27",
         "BallClaiming",
         "279.769",
         "DFL-CLU-00000P",
         "DFL-OBJ-J0130T",
         null,
         "2022-08-26 18:36:47.879000+02:00",
         "4.0",
         "39.0",
         "{'Type': 'InterceptedBall', 'Player': 'DFL-OBJ-J0130T', 'BallPossessionPhase': '56', 'Team': 'DFL-CLU-00000P'}"
        ],
        [
         "28",
         "Play_Pass",
         "279.77",
         "DFL-CLU-00000P",
         "DFL-OBJ-J0130T",
         null,
         "2022-08-26 18:36:47.880000+02:00",
         "4.0",
         "39.0",
         "{'Height': 'high', 'Player': 'DFL-OBJ-J0130T', 'BallPossessionPhase': '56', 'Evaluation': 'successful', 'PlayAngle': '127.99', 'FromOpenPlay': 'true', 'SemiField': 'false', 'Distance': 'short', 'PenaltyBox': 'false', 'Team': 'DFL-CLU-00000P', 'PlayOrigin': 'oppositionHalf', 'FlatCross': 'false', 'FreeKickLayup': 'false'}"
        ],
        [
         "29",
         "TacklingGame",
         "280.481",
         "DFL-CLU-00000P",
         "DFL-OBJ-J0130T",
         "0.0",
         "2022-08-26 18:36:48.591000+02:00",
         "4.0",
         "40.0",
         "{'PossessionChange': 'false', 'WinnerTeam': 'DFL-CLU-00000P', 'Loser': 'DFL-OBJ-0027B0', 'Type': 'ground', 'LoserTeam': 'DFL-CLU-000011', 'WinnerRole': 'withBallControl', 'Winner': 'DFL-OBJ-J0130T', 'GoalKeeperInvolved': 'false', 'WinnerResult': 'fouled', 'LoserRole': 'withoutBallControl'}"
        ],
        [
         "30",
         "FreeKick_Play_Pass",
         "305.146",
         "DFL-CLU-00000P",
         "DFL-OBJ-00028V",
         null,
         "2022-08-26 18:37:13.256000+02:00",
         "5.0",
         "5.0",
         "{'ExecutionMode': 'direct', 'Team': 'DFL-CLU-00000P', 'DecisionTimestamp': '2022-08-26T18:36:54.344+02:00', 'Recipient': 'DFL-OBJ-J014UG', 'Height': 'flat', 'Player': 'DFL-OBJ-00028V', 'BallPossessionPhase': '59', 'Evaluation': 'successfullyCompleted', 'PlayAngle': '184.35', 'FromOpenPlay': 'false', 'SemiField': 'false', 'Distance': 'medium', 'PenaltyBox': 'false', 'PlayOrigin': 'oppositionHalf', 'FlatCross': 'false', 'FreeKickLayup': 'false'}"
        ],
        [
         "31",
         "Play_Pass",
         "307.378",
         "DFL-CLU-00000P",
         "DFL-OBJ-J014UG",
         null,
         "2022-08-26 18:37:15.488000+02:00",
         "5.0",
         "7.0",
         "{'Recipient': 'DFL-OBJ-00006V', 'Height': 'flat', 'Player': 'DFL-OBJ-J014UG', 'BallPossessionPhase': '60', 'Evaluation': 'successfullyCompleted', 'PlayAngle': '99.51', 'FromOpenPlay': 'true', 'SemiField': 'false', 'Distance': 'medium', 'PenaltyBox': 'false', 'Team': 'DFL-CLU-00000P', 'PlayOrigin': 'ownHalf', 'FlatCross': 'false', 'FreeKickLayup': 'false'}"
        ],
        [
         "32",
         "Play_Pass",
         "311.05",
         "DFL-CLU-00000P",
         "DFL-OBJ-00006V",
         null,
         "2022-08-26 18:37:19.160000+02:00",
         "5.0",
         "11.0",
         "{'Recipient': 'DFL-OBJ-0028FW', 'Height': 'flat', 'Player': 'DFL-OBJ-00006V', 'BallPossessionPhase': '61', 'Evaluation': 'successfullyCompleted', 'PlayAngle': '225.60', 'FromOpenPlay': 'true', 'SemiField': 'false', 'Distance': 'medium', 'PenaltyBox': 'false', 'Team': 'DFL-CLU-00000P', 'PlayOrigin': 'ownHalf', 'FlatCross': 'false', 'FreeKickLayup': 'false'}"
        ],
        [
         "33",
         "Play_Pass",
         "314.89",
         "DFL-CLU-00000P",
         "DFL-OBJ-0028FW",
         null,
         "2022-08-26 18:37:23+02:00",
         "5.0",
         "14.0",
         "{'Recipient': 'DFL-OBJ-J0130T', 'Height': 'flat', 'Player': 'DFL-OBJ-0028FW', 'BallPossessionPhase': '62', 'Evaluation': 'successfullyCompleted', 'PlayAngle': '333.80', 'FromOpenPlay': 'true', 'SemiField': 'false', 'Distance': 'medium', 'PenaltyBox': 'false', 'Team': 'DFL-CLU-00000P', 'PlayOrigin': 'ownHalf', 'FlatCross': 'false', 'FreeKickLayup': 'false'}"
        ],
        [
         "34",
         "OtherBallAction",
         "315.49",
         "DFL-CLU-00000P",
         "DFL-OBJ-J0130T",
         null,
         "2022-08-26 18:37:23.600000+02:00",
         "5.0",
         "15.0",
         "{'Player': 'DFL-OBJ-J0130T', 'BallPossessionPhase': '63', 'Team': 'DFL-CLU-00000P'}"
        ],
        [
         "35",
         "TacklingGame",
         "320.675",
         "DFL-CLU-00000P",
         "DFL-OBJ-J0130T",
         "1.0",
         "2022-08-26 18:37:28.785000+02:00",
         "5.0",
         "20.0",
         "{'PossessionChange': 'true', 'WinnerTeam': 'DFL-CLU-000011', 'Loser': 'DFL-OBJ-J0130T', 'Type': 'ground', 'LoserTeam': 'DFL-CLU-00000P', 'WinnerRole': 'withoutBallControl', 'Winner': 'DFL-OBJ-0027VS', 'GoalKeeperInvolved': 'false', 'WinnerResult': 'ballClaimed', 'LoserRole': 'withBallControl', 'WinnerAction': 'shotAssist'}"
        ],
        [
         "36",
         "GoalKick_Play_Pass",
         "347.747",
         "DFL-CLU-00000P",
         "DFL-OBJ-0028FW",
         null,
         "2022-08-26 18:37:55.857000+02:00",
         "5.0",
         "47.0",
         "{'Team': 'DFL-CLU-00000P', 'DecisionTimestamp': '2022-08-26T18:37:33.776+02:00', 'Recipient': 'DFL-OBJ-J01CP5', 'Height': 'high', 'Player': 'DFL-OBJ-0028FW', 'BallPossessionPhase': '68', 'Evaluation': 'successfullyCompleted', 'PlayAngle': '315.67', 'FromOpenPlay': 'false', 'SemiField': 'false', 'Distance': 'medium', 'PenaltyBox': 'false', 'PlayOrigin': 'ownHalf', 'FlatCross': 'false', 'FreeKickLayup': 'false'}"
        ],
        [
         "37",
         "Play_Pass",
         "352.117",
         "DFL-CLU-00000P",
         "DFL-OBJ-J01CP5",
         null,
         "2022-08-26 18:38:00.227000+02:00",
         "5.0",
         "52.0",
         "{'Recipient': 'DFL-OBJ-002GM1', 'Height': 'flat', 'Player': 'DFL-OBJ-J01CP5', 'BallPossessionPhase': '69', 'Evaluation': 'successfullyCompleted', 'PlayAngle': '1.89', 'FromOpenPlay': 'true', 'SemiField': 'false', 'Distance': 'medium', 'PenaltyBox': 'false', 'Team': 'DFL-CLU-00000P', 'PlayOrigin': 'ownHalf', 'FlatCross': 'false', 'FreeKickLayup': 'false'}"
        ],
        [
         "38",
         "OtherBallAction",
         "353.243",
         "DFL-CLU-00000P",
         "DFL-OBJ-002GM1",
         null,
         "2022-08-26 18:38:01.353000+02:00",
         "5.0",
         "53.0",
         "{'Player': 'DFL-OBJ-002GM1', 'BallPossessionPhase': '71', 'Team': 'DFL-CLU-00000P'}"
        ],
        [
         "39",
         "TacklingGame",
         "354.635",
         "DFL-CLU-00000P",
         "DFL-OBJ-002GM1",
         "0.0",
         "2022-08-26 18:38:02.745000+02:00",
         "5.0",
         "54.0",
         "{'DribblingType': 'overrun', 'DribbleEvaluation': 'successful', 'PossessionChange': 'false', 'WinnerTeam': 'DFL-CLU-00000P', 'DribblingSide': 'left', 'Loser': 'DFL-OBJ-0028SW', 'Type': 'ground', 'LoserTeam': 'DFL-CLU-000011', 'WinnerRole': 'withBallControl', 'Winner': 'DFL-OBJ-002GM1', 'BallPossessionPhase': '71', 'GoalKeeperInvolved': 'false', 'WinnerResult': 'fouled', 'LoserRole': 'withoutBallControl'}"
        ],
        [
         "40",
         "FreeKick_Play_Pass",
         "398.014",
         "DFL-CLU-00000P",
         "DFL-OBJ-J01CP5",
         null,
         "2022-08-26 18:38:46.124000+02:00",
         "6.0",
         "38.0",
         "{'ExecutionMode': 'direct', 'Team': 'DFL-CLU-00000P', 'DecisionTimestamp': '2022-08-26T18:38:10.233+02:00', 'Recipient': 'DFL-OBJ-00268T', 'Height': 'high', 'Player': 'DFL-OBJ-J01CP5', 'BallPossessionPhase': '75', 'Evaluation': 'unsuccessful', 'PlayAngle': '34.08', 'FromOpenPlay': 'false', 'SemiField': 'false', 'Distance': 'long', 'PenaltyBox': 'false', 'PlayOrigin': 'oppositionHalf', 'FlatCross': 'false', 'FreeKickLayup': 'false', 'Direction': 'diagonalBall'}"
        ],
        [
         "41",
         "TacklingGame",
         "400.252",
         "DFL-CLU-00000P",
         "DFL-OBJ-00003X",
         "1.0",
         "2022-08-26 18:38:48.362000+02:00",
         "6.0",
         "40.0",
         "{'PossessionChange': 'false', 'WinnerTeam': 'DFL-CLU-000011', 'Loser': 'DFL-OBJ-00003X', 'Type': 'air', 'LoserTeam': 'DFL-CLU-00000P', 'WinnerRole': 'withoutBallControl', 'Winner': 'DFL-OBJ-00268T', 'GoalKeeperInvolved': 'false', 'WinnerResult': 'ballcontactSucceeded', 'LoserRole': 'withBallControl'}"
        ],
        [
         "42",
         "Play_Pass",
         "403.98",
         "DFL-CLU-00000P",
         "DFL-OBJ-J01CP5",
         null,
         "2022-08-26 18:38:52.090000+02:00",
         "6.0",
         "43.0",
         "{'Height': 'high', 'Player': 'DFL-OBJ-J01CP5', 'BallPossessionPhase': '79', 'Evaluation': 'successful', 'PlayAngle': '101.25', 'FromOpenPlay': 'true', 'SemiField': 'false', 'Distance': 'short', 'PenaltyBox': 'false', 'Team': 'DFL-CLU-00000P', 'PlayOrigin': 'oppositionHalf', 'FlatCross': 'false', 'FreeKickLayup': 'false'}"
        ],
        [
         "43",
         "TacklingGame",
         "405.027",
         "DFL-CLU-00000P",
         "DFL-OBJ-J01CP5",
         "0.0",
         "2022-08-26 18:38:53.137000+02:00",
         "6.0",
         "45.0",
         "{'PossessionChange': 'false', 'WinnerTeam': 'DFL-CLU-00000P', 'Loser': 'DFL-OBJ-002GAB', 'Type': 'ground', 'LoserTeam': 'DFL-CLU-000011', 'WinnerRole': 'withBallControl', 'Winner': 'DFL-OBJ-J01CP5', 'GoalKeeperInvolved': 'false', 'WinnerResult': 'fouled', 'LoserRole': 'withoutBallControl'}"
        ],
        [
         "44",
         "FreeKick_Play_Pass",
         "413.892",
         "DFL-CLU-00000P",
         "DFL-OBJ-J0130T",
         null,
         "2022-08-26 18:39:02.002000+02:00",
         "6.0",
         "53.0",
         "{'ExecutionMode': 'direct', 'Team': 'DFL-CLU-00000P', 'DecisionTimestamp': '2022-08-26T18:38:57.274+02:00', 'Recipient': 'DFL-OBJ-00006V', 'Height': 'flat', 'Player': 'DFL-OBJ-J0130T', 'BallPossessionPhase': '83', 'Evaluation': 'successfullyCompleted', 'PlayAngle': '104.86', 'FromOpenPlay': 'false', 'SemiField': 'false', 'Distance': 'medium', 'PenaltyBox': 'false', 'PlayOrigin': 'oppositionHalf', 'FlatCross': 'false', 'FreeKickLayup': 'false'}"
        ],
        [
         "45",
         "Play_Pass",
         "416.948",
         "DFL-CLU-00000P",
         "DFL-OBJ-00006V",
         null,
         "2022-08-26 18:39:05.058000+02:00",
         "6.0",
         "56.0",
         "{'Recipient': 'DFL-OBJ-0000NZ', 'Height': 'flat', 'Player': 'DFL-OBJ-00006V', 'BallPossessionPhase': '84', 'Evaluation': 'successfullyCompleted', 'PlayAngle': '88.12', 'FromOpenPlay': 'true', 'SemiField': 'false', 'Distance': 'short', 'PenaltyBox': 'false', 'Team': 'DFL-CLU-00000P', 'PlayOrigin': 'ownHalf', 'FlatCross': 'false', 'FreeKickLayup': 'false'}"
        ],
        [
         "46",
         "Play_Pass",
         "419.068",
         "DFL-CLU-00000P",
         "DFL-OBJ-0000NZ",
         null,
         "2022-08-26 18:39:07.178000+02:00",
         "6.0",
         "59.0",
         "{'Recipient': 'DFL-OBJ-002GEE', 'Height': 'high', 'Player': 'DFL-OBJ-0000NZ', 'BallPossessionPhase': '85', 'Evaluation': 'unsuccessful', 'PlayAngle': '349.22', 'FromOpenPlay': 'true', 'SemiField': 'false', 'Distance': 'long', 'PenaltyBox': 'false', 'Team': 'DFL-CLU-00000P', 'PlayOrigin': 'ownHalf', 'FlatCross': 'false', 'FreeKickLayup': 'false', 'Direction': 'throughBall'}"
        ],
        [
         "47",
         "Delete",
         "423.388",
         null,
         null,
         null,
         "2022-08-26 18:39:11.498000+02:00",
         "7.0",
         "3.0",
         "{}"
        ],
        [
         "48",
         "Play_Cross",
         "425.97",
         "DFL-CLU-00000P",
         "DFL-OBJ-002FXT",
         null,
         "2022-08-26 18:39:14.080000+02:00",
         "7.0",
         "5.0",
         "{'Recipient': 'DFL-OBJ-002GM1', 'Height': 'high', 'Player': 'DFL-OBJ-002FXT', 'BallPossessionPhase': '89', 'Evaluation': 'successfullyCompleted', 'PlayAngle': '273.40', 'Rotation': 'awayFromGoal', 'FromOpenPlay': 'true', 'SemiField': 'false', 'Distance': 'medium', 'PenaltyBox': 'true', 'Team': 'DFL-CLU-00000P', 'PlayOrigin': 'oppositionHalf', 'FlatCross': 'false', 'Side': 'right'}"
        ],
        [
         "49",
         "PenaltyNotAwarded",
         "426.13",
         "DFL-CLU-00000P",
         null,
         null,
         "2022-08-26 18:39:14.240000+02:00",
         "7.0",
         "6.0",
         "{'CausingPlayer': 'DFL-OBJ-00268T', 'Reason': 'handBall', 'PlayerToBeAwarded': 'DFL-OBJ-002FXT', 'RefDecisionEvaluation': 'correct', 'Team': 'DFL-CLU-00000P'}"
        ]
       ],
       "shape": {
        "columns": 9,
        "rows": 410
       }
      },
      "text/html": [
       "<div>\n",
       "<style scoped>\n",
       "    .dataframe tbody tr th:only-of-type {\n",
       "        vertical-align: middle;\n",
       "    }\n",
       "\n",
       "    .dataframe tbody tr th {\n",
       "        vertical-align: top;\n",
       "    }\n",
       "\n",
       "    .dataframe thead th {\n",
       "        text-align: right;\n",
       "    }\n",
       "</style>\n",
       "<table border=\"1\" class=\"dataframe\">\n",
       "  <thead>\n",
       "    <tr style=\"text-align: right;\">\n",
       "      <th></th>\n",
       "      <th>eID</th>\n",
       "      <th>gameclock</th>\n",
       "      <th>tID</th>\n",
       "      <th>pID</th>\n",
       "      <th>outcome</th>\n",
       "      <th>timestamp</th>\n",
       "      <th>minute</th>\n",
       "      <th>second</th>\n",
       "      <th>qualifier</th>\n",
       "    </tr>\n",
       "  </thead>\n",
       "  <tbody>\n",
       "    <tr>\n",
       "      <th>0</th>\n",
       "      <td>Foul</td>\n",
       "      <td>12.822</td>\n",
       "      <td>DFL-CLU-00000P</td>\n",
       "      <td>DFL-OBJ-00006V</td>\n",
       "      <td>NaN</td>\n",
       "      <td>2022-08-26 18:32:20.932000+02:00</td>\n",
       "      <td>0.0</td>\n",
       "      <td>12.0</td>\n",
       "      <td>{'FoulType': 'foul', 'CommittingPlayerAction':...</td>\n",
       "    </tr>\n",
       "    <tr>\n",
       "      <th>1</th>\n",
       "      <td>Caution</td>\n",
       "      <td>16.290</td>\n",
       "      <td>DFL-CLU-00000P</td>\n",
       "      <td>DFL-OBJ-00006V</td>\n",
       "      <td>NaN</td>\n",
       "      <td>2022-08-26 18:32:24.400000+02:00</td>\n",
       "      <td>0.0</td>\n",
       "      <td>16.0</td>\n",
       "      <td>{'CardRating': 'yellow', 'Player': 'DFL-OBJ-00...</td>\n",
       "    </tr>\n",
       "    <tr>\n",
       "      <th>2</th>\n",
       "      <td>Delete</td>\n",
       "      <td>79.856</td>\n",
       "      <td>None</td>\n",
       "      <td>None</td>\n",
       "      <td>NaN</td>\n",
       "      <td>2022-08-26 18:33:27.966000+02:00</td>\n",
       "      <td>1.0</td>\n",
       "      <td>19.0</td>\n",
       "      <td>{}</td>\n",
       "    </tr>\n",
       "    <tr>\n",
       "      <th>3</th>\n",
       "      <td>Delete</td>\n",
       "      <td>82.690</td>\n",
       "      <td>None</td>\n",
       "      <td>None</td>\n",
       "      <td>NaN</td>\n",
       "      <td>2022-08-26 18:33:30.800000+02:00</td>\n",
       "      <td>1.0</td>\n",
       "      <td>22.0</td>\n",
       "      <td>{}</td>\n",
       "    </tr>\n",
       "    <tr>\n",
       "      <th>4</th>\n",
       "      <td>OtherBallAction</td>\n",
       "      <td>85.215</td>\n",
       "      <td>DFL-CLU-00000P</td>\n",
       "      <td>DFL-OBJ-0028FW</td>\n",
       "      <td>NaN</td>\n",
       "      <td>2022-08-26 18:33:33.325000+02:00</td>\n",
       "      <td>1.0</td>\n",
       "      <td>25.0</td>\n",
       "      <td>{'Player': 'DFL-OBJ-0028FW', 'BallPossessionPh...</td>\n",
       "    </tr>\n",
       "    <tr>\n",
       "      <th>...</th>\n",
       "      <td>...</td>\n",
       "      <td>...</td>\n",
       "      <td>...</td>\n",
       "      <td>...</td>\n",
       "      <td>...</td>\n",
       "      <td>...</td>\n",
       "      <td>...</td>\n",
       "      <td>...</td>\n",
       "      <td>...</td>\n",
       "    </tr>\n",
       "    <tr>\n",
       "      <th>405</th>\n",
       "      <td>OtherBallAction</td>\n",
       "      <td>2740.250</td>\n",
       "      <td>DFL-CLU-00000P</td>\n",
       "      <td>DFL-OBJ-00003X</td>\n",
       "      <td>NaN</td>\n",
       "      <td>2022-08-26 19:17:48.360000+02:00</td>\n",
       "      <td>45.0</td>\n",
       "      <td>40.0</td>\n",
       "      <td>{'Player': 'DFL-OBJ-00003X', 'BallPossessionPh...</td>\n",
       "    </tr>\n",
       "    <tr>\n",
       "      <th>406</th>\n",
       "      <td>TacklingGame</td>\n",
       "      <td>2744.030</td>\n",
       "      <td>DFL-CLU-00000P</td>\n",
       "      <td>DFL-OBJ-00006V</td>\n",
       "      <td>1.0</td>\n",
       "      <td>2022-08-26 19:17:52.140000+02:00</td>\n",
       "      <td>45.0</td>\n",
       "      <td>44.0</td>\n",
       "      <td>{'PossessionChange': 'true', 'WinnerTeam': 'DF...</td>\n",
       "    </tr>\n",
       "    <tr>\n",
       "      <th>407</th>\n",
       "      <td>Foul</td>\n",
       "      <td>2744.543</td>\n",
       "      <td>DFL-CLU-00000P</td>\n",
       "      <td>DFL-OBJ-00006V</td>\n",
       "      <td>NaN</td>\n",
       "      <td>2022-08-26 19:17:52.653000+02:00</td>\n",
       "      <td>45.0</td>\n",
       "      <td>44.0</td>\n",
       "      <td>{'FoulType': 'foul', 'Fouler': 'DFL-OBJ-00006V...</td>\n",
       "    </tr>\n",
       "    <tr>\n",
       "      <th>408</th>\n",
       "      <td>Delete</td>\n",
       "      <td>2753.590</td>\n",
       "      <td>None</td>\n",
       "      <td>None</td>\n",
       "      <td>NaN</td>\n",
       "      <td>2022-08-26 19:18:01.700000+02:00</td>\n",
       "      <td>45.0</td>\n",
       "      <td>53.0</td>\n",
       "      <td>{}</td>\n",
       "    </tr>\n",
       "    <tr>\n",
       "      <th>409</th>\n",
       "      <td>FinalWhistle</td>\n",
       "      <td>2770.890</td>\n",
       "      <td>None</td>\n",
       "      <td>None</td>\n",
       "      <td>NaN</td>\n",
       "      <td>2022-08-26 19:18:19+02:00</td>\n",
       "      <td>46.0</td>\n",
       "      <td>10.0</td>\n",
       "      <td>{'GameSection': 'firstHalf', 'BreakingOff': 'f...</td>\n",
       "    </tr>\n",
       "  </tbody>\n",
       "</table>\n",
       "<p>410 rows × 9 columns</p>\n",
       "</div>"
      ],
      "text/plain": [
       "                 eID  gameclock             tID             pID  outcome  \\\n",
       "0               Foul     12.822  DFL-CLU-00000P  DFL-OBJ-00006V      NaN   \n",
       "1            Caution     16.290  DFL-CLU-00000P  DFL-OBJ-00006V      NaN   \n",
       "2             Delete     79.856            None            None      NaN   \n",
       "3             Delete     82.690            None            None      NaN   \n",
       "4    OtherBallAction     85.215  DFL-CLU-00000P  DFL-OBJ-0028FW      NaN   \n",
       "..               ...        ...             ...             ...      ...   \n",
       "405  OtherBallAction   2740.250  DFL-CLU-00000P  DFL-OBJ-00003X      NaN   \n",
       "406     TacklingGame   2744.030  DFL-CLU-00000P  DFL-OBJ-00006V      1.0   \n",
       "407             Foul   2744.543  DFL-CLU-00000P  DFL-OBJ-00006V      NaN   \n",
       "408           Delete   2753.590            None            None      NaN   \n",
       "409     FinalWhistle   2770.890            None            None      NaN   \n",
       "\n",
       "                           timestamp  minute  second  \\\n",
       "0   2022-08-26 18:32:20.932000+02:00     0.0    12.0   \n",
       "1   2022-08-26 18:32:24.400000+02:00     0.0    16.0   \n",
       "2   2022-08-26 18:33:27.966000+02:00     1.0    19.0   \n",
       "3   2022-08-26 18:33:30.800000+02:00     1.0    22.0   \n",
       "4   2022-08-26 18:33:33.325000+02:00     1.0    25.0   \n",
       "..                               ...     ...     ...   \n",
       "405 2022-08-26 19:17:48.360000+02:00    45.0    40.0   \n",
       "406 2022-08-26 19:17:52.140000+02:00    45.0    44.0   \n",
       "407 2022-08-26 19:17:52.653000+02:00    45.0    44.0   \n",
       "408 2022-08-26 19:18:01.700000+02:00    45.0    53.0   \n",
       "409        2022-08-26 19:18:19+02:00    46.0    10.0   \n",
       "\n",
       "                                             qualifier  \n",
       "0    {'FoulType': 'foul', 'CommittingPlayerAction':...  \n",
       "1    {'CardRating': 'yellow', 'Player': 'DFL-OBJ-00...  \n",
       "2                                                   {}  \n",
       "3                                                   {}  \n",
       "4    {'Player': 'DFL-OBJ-0028FW', 'BallPossessionPh...  \n",
       "..                                                 ...  \n",
       "405  {'Player': 'DFL-OBJ-00003X', 'BallPossessionPh...  \n",
       "406  {'PossessionChange': 'true', 'WinnerTeam': 'DF...  \n",
       "407  {'FoulType': 'foul', 'Fouler': 'DFL-OBJ-00006V...  \n",
       "408                                                 {}  \n",
       "409  {'GameSection': 'firstHalf', 'BreakingOff': 'f...  \n",
       "\n",
       "[410 rows x 9 columns]"
      ]
     },
     "execution_count": 43,
     "metadata": {},
     "output_type": "execute_result"
    }
   ],
   "source": [
    "events[\"firstHalf\"][\"Home\"].events"
   ]
  },
  {
   "cell_type": "code",
   "execution_count": 38,
   "id": "d87e43eb",
   "metadata": {},
   "outputs": [
    {
     "name": "stdout",
     "output_type": "stream",
     "text": [
      "['N', '__annotations__', '__class__', '__dataclass_fields__', '__dataclass_params__', '__delattr__', '__dict__', '__dir__', '__doc__', '__eq__', '__format__', '__ge__', '__getattribute__', '__getitem__', '__getstate__', '__gt__', '__hash__', '__init__', '__init_subclass__', '__le__', '__len__', '__lt__', '__match_args__', '__module__', '__ne__', '__new__', '__reduce__', '__reduce_ex__', '__repr__', '__setattr__', '__setitem__', '__sizeof__', '__str__', '__subclasshook__', '__weakref__', 'direction', 'frame', 'framerate', 'player', 'plot', 'point', 'reflect', 'rotate', 'scale', 'slice', 'translate', 'x', 'xy', 'y']\n"
     ]
    }
   ],
   "source": [
    "print(dir(xy_objects[\"firstHalf\"][\"Home\"]))"
   ]
  },
  {
   "cell_type": "code",
   "execution_count": 45,
   "id": "cac74ccd",
   "metadata": {},
   "outputs": [
    {
     "data": {
      "text/plain": [
       "array([   nan,    nan,    nan,    nan,   0.59,  -8.72, -12.53, -20.32,\n",
       "       -16.45,  -6.5 ,  -0.12, -18.05,  -4.2 ,  -7.8 , -11.49,  -2.73,\n",
       "       -17.32,   5.08,   0.99,   8.39,    nan,    nan, -40.36,  -0.25,\n",
       "       -13.81,  14.5 ,    nan,    nan,    nan,    nan,  -1.85,  13.53,\n",
       "          nan,    nan,    nan,    nan,    nan,    nan,    nan,    nan])"
      ]
     },
     "execution_count": 45,
     "metadata": {},
     "output_type": "execute_result"
    }
   ],
   "source": [
    "xy_objects[\"firstHalf\"][\"Home\"].frame(0)"
   ]
  },
  {
   "cell_type": "code",
   "execution_count": 23,
   "id": "947eb8e5",
   "metadata": {},
   "outputs": [
    {
     "data": {
      "text/plain": [
       "array([[  nan,   nan,  0.59, ...,   nan,   nan,   nan],\n",
       "       [  nan,   nan,  0.71, ...,   nan,   nan,   nan],\n",
       "       [  nan,   nan,  0.83, ...,   nan,   nan,   nan],\n",
       "       ...,\n",
       "       [  nan,   nan, 16.07, ...,   nan,   nan,   nan],\n",
       "       [  nan,   nan, 16.04, ...,   nan,   nan,   nan],\n",
       "       [  nan,   nan, 16.01, ...,   nan,   nan,   nan]])"
      ]
     },
     "execution_count": 23,
     "metadata": {},
     "output_type": "execute_result"
    }
   ],
   "source": [
    "xy_objects[\"firstHalf\"][\"Home\"].x\n"
   ]
  },
  {
   "cell_type": "code",
   "execution_count": 63,
   "id": "c9e97cc3",
   "metadata": {},
   "outputs": [
    {
     "name": "stdout",
     "output_type": "stream",
     "text": [
      "[   nan    nan    nan    nan  16.01  19.95  -3.9    6.96  -6.87  16.1\n",
      "   2.83   1.22  -6.15  18.36   6.76  12.33  -8.13  19.22  17.16   7.08\n",
      "    nan    nan -11.16  23.73  -5.11  27.83    nan    nan    nan    nan\n",
      "  -1.45  32.11    nan    nan    nan    nan    nan    nan    nan    nan]\n"
     ]
    }
   ],
   "source": [
    "# player_frame = xy_objects[\"firstHalf\"][\"Home\"].xy[0]\n",
    "# print(player_frame)\n",
    "# # # print number of non null elements in player_frame using numpy nan\n",
    "# print(np.count_nonzero(~np.isnan(player_frame)))\n",
    "print(player_frame)"
   ]
  },
  {
   "cell_type": "code",
   "execution_count": 19,
   "id": "b00374fd",
   "metadata": {},
   "outputs": [],
   "source": [
    "# load npy files\n",
    "data_path = \"seqlabelvae/\"\n",
    "labeled_sequences = np.load(data_path + \"labeled_sequences.npy\", allow_pickle=True)\n",
    "labels = np.load(data_path + \"labels.npy\", allow_pickle=True)\n",
    "unlabeled_frames = np.load(data_path + \"unlabeled_frames.npy\", allow_pickle=True)\n",
    "events_labels = pickle.load(open(data_path + \"events_labels.pkl\", \"rb\"))"
   ]
  },
  {
   "cell_type": "code",
   "execution_count": 14,
   "id": "70179e21",
   "metadata": {},
   "outputs": [
    {
     "data": {
      "text/plain": [
       "51455.25"
      ]
     },
     "execution_count": 14,
     "metadata": {},
     "output_type": "execute_result"
    }
   ],
   "source": [
    "len(unlabeled_frames) * 6 / 16"
   ]
  },
  {
   "cell_type": "code",
   "execution_count": 12,
   "id": "c0ddccb6",
   "metadata": {},
   "outputs": [
    {
     "data": {
      "text/plain": [
       "15984"
      ]
     },
     "execution_count": 12,
     "metadata": {},
     "output_type": "execute_result"
    }
   ],
   "source": [
    "len(labeled_sequences) *6"
   ]
  },
  {
   "cell_type": "code",
   "execution_count": 16,
   "id": "6500bd4a",
   "metadata": {},
   "outputs": [
    {
     "data": {
      "text/plain": [
       "2664"
      ]
     },
     "execution_count": 16,
     "metadata": {},
     "output_type": "execute_result"
    }
   ],
   "source": [
    "len(labels)"
   ]
  },
  {
   "cell_type": "code",
   "execution_count": 27,
   "id": "cb84cd4d",
   "metadata": {},
   "outputs": [
    {
     "data": {
      "text/plain": [
       "dict_keys(['BallClaiming', 'BallDeflection', 'Caution', 'CautionTeamofficial', 'ChanceWithoutShot', 'CornerKick_Play_Cross', 'CornerKick_Play_Pass', 'Delete', 'FairPlay', 'FinalWhistle', 'Foul', 'FreeKick_Play_Cross', 'FreeKick_Play_Pass', 'FreeKick_ShotAtGoal_BlockedShot', 'FreeKick_ShotAtGoal_SavedShot', 'FreeKick_ShotAtGoal_ShotWide', 'GoalDisallowed', 'GoalKick_Play_Pass', 'KickOff_Play_Pass', 'Nutmeg', 'Offside', 'OtherBallAction', 'OtherPlayerAction', 'OutSubstitution', 'PenaltyNotAwarded', 'Penalty_ShotAtGoal_SuccessfulShot', 'Play_Cross', 'Play_Pass', 'PlayerNotSentOff', 'PossessionLossBeforeGoal', 'RefereeBall', 'Run', 'ShotAtGoal_BlockedShot', 'ShotAtGoal_OtherShot', 'ShotAtGoal_SavedShot', 'ShotAtGoal_ShotWide', 'ShotAtGoal_ShotWoodWork', 'ShotAtGoal_SuccessfulShot', 'SitterPrevented', 'SpectacularPlay', 'TacklingGame', 'ThrowIn', 'ThrowIn_Play_Cross', 'ThrowIn_Play_Pass', 'VideoAssistantAction'])"
      ]
     },
     "execution_count": 27,
     "metadata": {},
     "output_type": "execute_result"
    }
   ],
   "source": [
    "events_labels.keys()"
   ]
  },
  {
   "cell_type": "code",
   "execution_count": 58,
   "id": "7e1a9940",
   "metadata": {},
   "outputs": [],
   "source": [
    "eids = all_events.eID.unique()\n",
    "\n",
    "# remove 'Deleted' from eids\n",
    "eids = [eid for eid in eids if eid != 'Deleted']\n",
    "\n",
    "# create label map to integer\n",
    "label_map = {eid: i for i, eid in enumerate(eids)}\n",
    "\n",
    "# pickle label_map\n",
    "with open(\"events_labels.pkl\", \"wb\") as f:\n",
    "    pickle.dump(label_map, f)"
   ]
  },
  {
   "cell_type": "code",
   "execution_count": null,
   "id": "5b5ac80d",
   "metadata": {},
   "outputs": [
    {
     "data": {
      "text/plain": [
       "{'ThrowIn_Play_Pass': 0,\n",
       " 'TacklingGame': 1,\n",
       " 'OtherBallAction': 2,\n",
       " 'Delete': 3,\n",
       " 'BallClaiming': 4,\n",
       " 'Play_Pass': 5,\n",
       " 'Play_Cross': 6,\n",
       " 'ShotAtGoal_ShotWide': 7,\n",
       " 'Foul': 8,\n",
       " 'RefereeBall': 9,\n",
       " 'KickOff_Play_Pass': 10,\n",
       " 'GoalKick_Play_Pass': 11,\n",
       " 'ThrowIn_Play_Cross': 12,\n",
       " 'ShotAtGoal_SavedShot': 13,\n",
       " 'CornerKick_Play_Cross': 14,\n",
       " 'FreeKick_Play_Pass': 15,\n",
       " 'PlayerNotSentOff': 16,\n",
       " 'Caution': 17,\n",
       " 'ShotAtGoal_BlockedShot': 18,\n",
       " 'ChanceWithoutShot': 19,\n",
       " 'VideoAssistantAction': 20,\n",
       " 'PenaltyNotAwarded': 21,\n",
       " 'FinalWhistle': 22,\n",
       " 'ShotAtGoal_SuccessfulShot': 23,\n",
       " 'ShotAtGoal_ShotWoodWork': 24,\n",
       " 'BallDeflection': 25,\n",
       " 'Offside': 26,\n",
       " 'GoalDisallowed': 27,\n",
       " 'FreeKick_Play_Cross': 28,\n",
       " 'OutSubstitution': 29,\n",
       " 'CornerKick_Play_Pass': 30,\n",
       " 'Penalty_ShotAtGoal_SuccessfulShot': 31,\n",
       " 'PossessionLossBeforeGoal': 32,\n",
       " 'OtherPlayerAction': 33,\n",
       " 'Run': 34,\n",
       " 'SpectacularPlay': 35,\n",
       " 'SitterPrevented': 36,\n",
       " 'CautionTeamofficial': 37,\n",
       " 'ThrowIn': 38,\n",
       " 'FreeKick_ShotAtGoal_BlockedShot': 39,\n",
       " 'Nutmeg': 40,\n",
       " 'ShotAtGoal_OtherShot': 41,\n",
       " 'FreeKick_ShotAtGoal_SavedShot': 42,\n",
       " 'FairPlay': 43,\n",
       " 'FreeKick_ShotAtGoal_ShotWide': 44}"
      ]
     },
     "execution_count": 56,
     "metadata": {},
     "output_type": "execute_result"
    }
   ],
   "source": []
  },
  {
   "cell_type": "code",
   "execution_count": null,
   "id": "b09057bc",
   "metadata": {},
   "outputs": [],
   "source": []
  }
 ],
 "metadata": {
  "kernelspec": {
   "display_name": ".venv",
   "language": "python",
   "name": "python3"
  },
  "language_info": {
   "codemirror_mode": {
    "name": "ipython",
    "version": 3
   },
   "file_extension": ".py",
   "mimetype": "text/x-python",
   "name": "python",
   "nbconvert_exporter": "python",
   "pygments_lexer": "ipython3",
   "version": "3.12.8"
  }
 },
 "nbformat": 4,
 "nbformat_minor": 5
}
